{
 "cells": [
  {
   "cell_type": "markdown",
   "id": "e6d8da4c",
   "metadata": {},
   "source": [
    "### Importing the libraries"
   ]
  },
  {
   "cell_type": "code",
   "execution_count": 1,
   "id": "89405516",
   "metadata": {},
   "outputs": [],
   "source": [
    "import pandas as pd\n",
    "import numpy as np\n",
    "import matplotlib.pyplot as plt\n",
    "import seaborn as sns"
   ]
  },
  {
   "cell_type": "markdown",
   "id": "a4c5f986",
   "metadata": {},
   "source": [
    "### Importing the dataset"
   ]
  },
  {
   "cell_type": "code",
   "execution_count": 2,
   "id": "1d933614",
   "metadata": {},
   "outputs": [],
   "source": [
    "df = pd.read_csv('train.csv')"
   ]
  },
  {
   "cell_type": "code",
   "execution_count": 3,
   "id": "3c9f040e",
   "metadata": {},
   "outputs": [
    {
     "data": {
      "text/html": [
       "<div>\n",
       "<style scoped>\n",
       "    .dataframe tbody tr th:only-of-type {\n",
       "        vertical-align: middle;\n",
       "    }\n",
       "\n",
       "    .dataframe tbody tr th {\n",
       "        vertical-align: top;\n",
       "    }\n",
       "\n",
       "    .dataframe thead th {\n",
       "        text-align: right;\n",
       "    }\n",
       "</style>\n",
       "<table border=\"1\" class=\"dataframe\">\n",
       "  <thead>\n",
       "    <tr style=\"text-align: right;\">\n",
       "      <th></th>\n",
       "      <th>row_id</th>\n",
       "      <th>time</th>\n",
       "      <th>x</th>\n",
       "      <th>y</th>\n",
       "      <th>direction</th>\n",
       "      <th>congestion</th>\n",
       "    </tr>\n",
       "  </thead>\n",
       "  <tbody>\n",
       "    <tr>\n",
       "      <th>0</th>\n",
       "      <td>0</td>\n",
       "      <td>1991-04-01 00:00:00</td>\n",
       "      <td>0</td>\n",
       "      <td>0</td>\n",
       "      <td>EB</td>\n",
       "      <td>70</td>\n",
       "    </tr>\n",
       "    <tr>\n",
       "      <th>1</th>\n",
       "      <td>1</td>\n",
       "      <td>1991-04-01 00:00:00</td>\n",
       "      <td>0</td>\n",
       "      <td>0</td>\n",
       "      <td>NB</td>\n",
       "      <td>49</td>\n",
       "    </tr>\n",
       "    <tr>\n",
       "      <th>2</th>\n",
       "      <td>2</td>\n",
       "      <td>1991-04-01 00:00:00</td>\n",
       "      <td>0</td>\n",
       "      <td>0</td>\n",
       "      <td>SB</td>\n",
       "      <td>24</td>\n",
       "    </tr>\n",
       "    <tr>\n",
       "      <th>3</th>\n",
       "      <td>3</td>\n",
       "      <td>1991-04-01 00:00:00</td>\n",
       "      <td>0</td>\n",
       "      <td>1</td>\n",
       "      <td>EB</td>\n",
       "      <td>18</td>\n",
       "    </tr>\n",
       "    <tr>\n",
       "      <th>4</th>\n",
       "      <td>4</td>\n",
       "      <td>1991-04-01 00:00:00</td>\n",
       "      <td>0</td>\n",
       "      <td>1</td>\n",
       "      <td>NB</td>\n",
       "      <td>60</td>\n",
       "    </tr>\n",
       "    <tr>\n",
       "      <th>...</th>\n",
       "      <td>...</td>\n",
       "      <td>...</td>\n",
       "      <td>...</td>\n",
       "      <td>...</td>\n",
       "      <td>...</td>\n",
       "      <td>...</td>\n",
       "    </tr>\n",
       "    <tr>\n",
       "      <th>848830</th>\n",
       "      <td>848830</td>\n",
       "      <td>1991-09-30 11:40:00</td>\n",
       "      <td>2</td>\n",
       "      <td>3</td>\n",
       "      <td>NB</td>\n",
       "      <td>54</td>\n",
       "    </tr>\n",
       "    <tr>\n",
       "      <th>848831</th>\n",
       "      <td>848831</td>\n",
       "      <td>1991-09-30 11:40:00</td>\n",
       "      <td>2</td>\n",
       "      <td>3</td>\n",
       "      <td>NE</td>\n",
       "      <td>28</td>\n",
       "    </tr>\n",
       "    <tr>\n",
       "      <th>848832</th>\n",
       "      <td>848832</td>\n",
       "      <td>1991-09-30 11:40:00</td>\n",
       "      <td>2</td>\n",
       "      <td>3</td>\n",
       "      <td>SB</td>\n",
       "      <td>68</td>\n",
       "    </tr>\n",
       "    <tr>\n",
       "      <th>848833</th>\n",
       "      <td>848833</td>\n",
       "      <td>1991-09-30 11:40:00</td>\n",
       "      <td>2</td>\n",
       "      <td>3</td>\n",
       "      <td>SW</td>\n",
       "      <td>17</td>\n",
       "    </tr>\n",
       "    <tr>\n",
       "      <th>848834</th>\n",
       "      <td>848834</td>\n",
       "      <td>1991-09-30 11:40:00</td>\n",
       "      <td>2</td>\n",
       "      <td>3</td>\n",
       "      <td>WB</td>\n",
       "      <td>24</td>\n",
       "    </tr>\n",
       "  </tbody>\n",
       "</table>\n",
       "<p>848835 rows × 6 columns</p>\n",
       "</div>"
      ],
      "text/plain": [
       "        row_id                 time  x  y direction  congestion\n",
       "0            0  1991-04-01 00:00:00  0  0        EB          70\n",
       "1            1  1991-04-01 00:00:00  0  0        NB          49\n",
       "2            2  1991-04-01 00:00:00  0  0        SB          24\n",
       "3            3  1991-04-01 00:00:00  0  1        EB          18\n",
       "4            4  1991-04-01 00:00:00  0  1        NB          60\n",
       "...        ...                  ... .. ..       ...         ...\n",
       "848830  848830  1991-09-30 11:40:00  2  3        NB          54\n",
       "848831  848831  1991-09-30 11:40:00  2  3        NE          28\n",
       "848832  848832  1991-09-30 11:40:00  2  3        SB          68\n",
       "848833  848833  1991-09-30 11:40:00  2  3        SW          17\n",
       "848834  848834  1991-09-30 11:40:00  2  3        WB          24\n",
       "\n",
       "[848835 rows x 6 columns]"
      ]
     },
     "execution_count": 3,
     "metadata": {},
     "output_type": "execute_result"
    }
   ],
   "source": [
    "df"
   ]
  },
  {
   "cell_type": "markdown",
   "id": "a35ca508",
   "metadata": {},
   "source": [
    "### Lets see if our dataset has any null values"
   ]
  },
  {
   "cell_type": "code",
   "execution_count": 4,
   "id": "ea7ba13d",
   "metadata": {},
   "outputs": [
    {
     "data": {
      "text/plain": [
       "row_id        0\n",
       "time          0\n",
       "x             0\n",
       "y             0\n",
       "direction     0\n",
       "congestion    0\n",
       "dtype: int64"
      ]
     },
     "execution_count": 4,
     "metadata": {},
     "output_type": "execute_result"
    }
   ],
   "source": [
    "df.isnull().sum()"
   ]
  },
  {
   "cell_type": "markdown",
   "id": "4d1ed769",
   "metadata": {},
   "source": [
    "- we can see our dataset has no null values so we can proceed forward "
   ]
  },
  {
   "cell_type": "markdown",
   "id": "f80041ad",
   "metadata": {},
   "source": [
    "### Taking a closer look at our data"
   ]
  },
  {
   "cell_type": "code",
   "execution_count": 5,
   "id": "e7c5b960",
   "metadata": {},
   "outputs": [
    {
     "data": {
      "text/html": [
       "<div>\n",
       "<style scoped>\n",
       "    .dataframe tbody tr th:only-of-type {\n",
       "        vertical-align: middle;\n",
       "    }\n",
       "\n",
       "    .dataframe tbody tr th {\n",
       "        vertical-align: top;\n",
       "    }\n",
       "\n",
       "    .dataframe thead th {\n",
       "        text-align: right;\n",
       "    }\n",
       "</style>\n",
       "<table border=\"1\" class=\"dataframe\">\n",
       "  <thead>\n",
       "    <tr style=\"text-align: right;\">\n",
       "      <th></th>\n",
       "      <th>row_id</th>\n",
       "      <th>time</th>\n",
       "      <th>x</th>\n",
       "      <th>y</th>\n",
       "      <th>direction</th>\n",
       "      <th>congestion</th>\n",
       "    </tr>\n",
       "  </thead>\n",
       "  <tbody>\n",
       "    <tr>\n",
       "      <th>0</th>\n",
       "      <td>0</td>\n",
       "      <td>1991-04-01 00:00:00</td>\n",
       "      <td>0</td>\n",
       "      <td>0</td>\n",
       "      <td>EB</td>\n",
       "      <td>70</td>\n",
       "    </tr>\n",
       "    <tr>\n",
       "      <th>1</th>\n",
       "      <td>1</td>\n",
       "      <td>1991-04-01 00:00:00</td>\n",
       "      <td>0</td>\n",
       "      <td>0</td>\n",
       "      <td>NB</td>\n",
       "      <td>49</td>\n",
       "    </tr>\n",
       "    <tr>\n",
       "      <th>2</th>\n",
       "      <td>2</td>\n",
       "      <td>1991-04-01 00:00:00</td>\n",
       "      <td>0</td>\n",
       "      <td>0</td>\n",
       "      <td>SB</td>\n",
       "      <td>24</td>\n",
       "    </tr>\n",
       "    <tr>\n",
       "      <th>3</th>\n",
       "      <td>3</td>\n",
       "      <td>1991-04-01 00:00:00</td>\n",
       "      <td>0</td>\n",
       "      <td>1</td>\n",
       "      <td>EB</td>\n",
       "      <td>18</td>\n",
       "    </tr>\n",
       "    <tr>\n",
       "      <th>4</th>\n",
       "      <td>4</td>\n",
       "      <td>1991-04-01 00:00:00</td>\n",
       "      <td>0</td>\n",
       "      <td>1</td>\n",
       "      <td>NB</td>\n",
       "      <td>60</td>\n",
       "    </tr>\n",
       "  </tbody>\n",
       "</table>\n",
       "</div>"
      ],
      "text/plain": [
       "   row_id                 time  x  y direction  congestion\n",
       "0       0  1991-04-01 00:00:00  0  0        EB          70\n",
       "1       1  1991-04-01 00:00:00  0  0        NB          49\n",
       "2       2  1991-04-01 00:00:00  0  0        SB          24\n",
       "3       3  1991-04-01 00:00:00  0  1        EB          18\n",
       "4       4  1991-04-01 00:00:00  0  1        NB          60"
      ]
     },
     "execution_count": 5,
     "metadata": {},
     "output_type": "execute_result"
    }
   ],
   "source": [
    "# first 5 rows\n",
    "\n",
    "df.head()"
   ]
  },
  {
   "cell_type": "code",
   "execution_count": 6,
   "id": "51c3bc38",
   "metadata": {},
   "outputs": [
    {
     "name": "stdout",
     "output_type": "stream",
     "text": [
      "<class 'pandas.core.frame.DataFrame'>\n",
      "RangeIndex: 848835 entries, 0 to 848834\n",
      "Data columns (total 6 columns):\n",
      " #   Column      Non-Null Count   Dtype \n",
      "---  ------      --------------   ----- \n",
      " 0   row_id      848835 non-null  int64 \n",
      " 1   time        848835 non-null  object\n",
      " 2   x           848835 non-null  int64 \n",
      " 3   y           848835 non-null  int64 \n",
      " 4   direction   848835 non-null  object\n",
      " 5   congestion  848835 non-null  int64 \n",
      "dtypes: int64(4), object(2)\n",
      "memory usage: 38.9+ MB\n"
     ]
    }
   ],
   "source": [
    "# Columns, Number of Non-Null values per column and Data Type.\n",
    "\n",
    "df.info()"
   ]
  },
  {
   "cell_type": "code",
   "execution_count": 7,
   "id": "dfb59d5b",
   "metadata": {},
   "outputs": [
    {
     "data": {
      "text/html": [
       "<div>\n",
       "<style scoped>\n",
       "    .dataframe tbody tr th:only-of-type {\n",
       "        vertical-align: middle;\n",
       "    }\n",
       "\n",
       "    .dataframe tbody tr th {\n",
       "        vertical-align: top;\n",
       "    }\n",
       "\n",
       "    .dataframe thead th {\n",
       "        text-align: right;\n",
       "    }\n",
       "</style>\n",
       "<table border=\"1\" class=\"dataframe\">\n",
       "  <thead>\n",
       "    <tr style=\"text-align: right;\">\n",
       "      <th></th>\n",
       "      <th>row_id</th>\n",
       "      <th>x</th>\n",
       "      <th>y</th>\n",
       "      <th>congestion</th>\n",
       "    </tr>\n",
       "  </thead>\n",
       "  <tbody>\n",
       "    <tr>\n",
       "      <th>count</th>\n",
       "      <td>848835.00000</td>\n",
       "      <td>848835.000000</td>\n",
       "      <td>848835.000000</td>\n",
       "      <td>848835.000000</td>\n",
       "    </tr>\n",
       "    <tr>\n",
       "      <th>mean</th>\n",
       "      <td>424417.00000</td>\n",
       "      <td>1.138462</td>\n",
       "      <td>1.630769</td>\n",
       "      <td>47.815305</td>\n",
       "    </tr>\n",
       "    <tr>\n",
       "      <th>std</th>\n",
       "      <td>245037.70221</td>\n",
       "      <td>0.801478</td>\n",
       "      <td>1.089379</td>\n",
       "      <td>16.799392</td>\n",
       "    </tr>\n",
       "    <tr>\n",
       "      <th>min</th>\n",
       "      <td>0.00000</td>\n",
       "      <td>0.000000</td>\n",
       "      <td>0.000000</td>\n",
       "      <td>0.000000</td>\n",
       "    </tr>\n",
       "    <tr>\n",
       "      <th>25%</th>\n",
       "      <td>212208.50000</td>\n",
       "      <td>0.000000</td>\n",
       "      <td>1.000000</td>\n",
       "      <td>35.000000</td>\n",
       "    </tr>\n",
       "    <tr>\n",
       "      <th>50%</th>\n",
       "      <td>424417.00000</td>\n",
       "      <td>1.000000</td>\n",
       "      <td>2.000000</td>\n",
       "      <td>47.000000</td>\n",
       "    </tr>\n",
       "    <tr>\n",
       "      <th>75%</th>\n",
       "      <td>636625.50000</td>\n",
       "      <td>2.000000</td>\n",
       "      <td>3.000000</td>\n",
       "      <td>60.000000</td>\n",
       "    </tr>\n",
       "    <tr>\n",
       "      <th>max</th>\n",
       "      <td>848834.00000</td>\n",
       "      <td>2.000000</td>\n",
       "      <td>3.000000</td>\n",
       "      <td>100.000000</td>\n",
       "    </tr>\n",
       "  </tbody>\n",
       "</table>\n",
       "</div>"
      ],
      "text/plain": [
       "             row_id              x              y     congestion\n",
       "count  848835.00000  848835.000000  848835.000000  848835.000000\n",
       "mean   424417.00000       1.138462       1.630769      47.815305\n",
       "std    245037.70221       0.801478       1.089379      16.799392\n",
       "min         0.00000       0.000000       0.000000       0.000000\n",
       "25%    212208.50000       0.000000       1.000000      35.000000\n",
       "50%    424417.00000       1.000000       2.000000      47.000000\n",
       "75%    636625.50000       2.000000       3.000000      60.000000\n",
       "max    848834.00000       2.000000       3.000000     100.000000"
      ]
     },
     "execution_count": 7,
     "metadata": {},
     "output_type": "execute_result"
    }
   ],
   "source": [
    "# Number of non-empty values, Mean, Standard Deviation, min, max, 25/50/75 percentiles.\n",
    "\n",
    "df.describe()"
   ]
  },
  {
   "cell_type": "code",
   "execution_count": 8,
   "id": "809c3642",
   "metadata": {},
   "outputs": [
    {
     "data": {
      "text/plain": [
       "Index(['row_id', 'time', 'x', 'y', 'direction', 'congestion'], dtype='object')"
      ]
     },
     "execution_count": 8,
     "metadata": {},
     "output_type": "execute_result"
    }
   ],
   "source": [
    "# Types of column we have for the data\n",
    "\n",
    "df.columns"
   ]
  },
  {
   "cell_type": "markdown",
   "id": "704d77da",
   "metadata": {},
   "source": [
    "### The different features of our Dataset are:\n",
    "- Row id - index number\n",
    "- Time - date and time stamp of the vehicle\n",
    "- x & y - Lanes\n",
    "- Congestion - Number of vehicles"
   ]
  },
  {
   "cell_type": "markdown",
   "id": "d1a96d85",
   "metadata": {},
   "source": [
    "### Feature Engineering"
   ]
  },
  {
   "cell_type": "code",
   "execution_count": 9,
   "id": "e28482d7",
   "metadata": {},
   "outputs": [],
   "source": [
    "df_copy1 = df"
   ]
  },
  {
   "cell_type": "code",
   "execution_count": 10,
   "id": "af566d61",
   "metadata": {},
   "outputs": [
    {
     "data": {
      "text/html": [
       "<div>\n",
       "<style scoped>\n",
       "    .dataframe tbody tr th:only-of-type {\n",
       "        vertical-align: middle;\n",
       "    }\n",
       "\n",
       "    .dataframe tbody tr th {\n",
       "        vertical-align: top;\n",
       "    }\n",
       "\n",
       "    .dataframe thead th {\n",
       "        text-align: right;\n",
       "    }\n",
       "</style>\n",
       "<table border=\"1\" class=\"dataframe\">\n",
       "  <thead>\n",
       "    <tr style=\"text-align: right;\">\n",
       "      <th></th>\n",
       "      <th>row_id</th>\n",
       "      <th>time</th>\n",
       "      <th>x</th>\n",
       "      <th>y</th>\n",
       "      <th>direction</th>\n",
       "      <th>congestion</th>\n",
       "    </tr>\n",
       "  </thead>\n",
       "  <tbody>\n",
       "    <tr>\n",
       "      <th>0</th>\n",
       "      <td>0</td>\n",
       "      <td>1991-04-01 00:00:00</td>\n",
       "      <td>0</td>\n",
       "      <td>0</td>\n",
       "      <td>EB</td>\n",
       "      <td>70</td>\n",
       "    </tr>\n",
       "    <tr>\n",
       "      <th>1</th>\n",
       "      <td>1</td>\n",
       "      <td>1991-04-01 00:00:00</td>\n",
       "      <td>0</td>\n",
       "      <td>0</td>\n",
       "      <td>NB</td>\n",
       "      <td>49</td>\n",
       "    </tr>\n",
       "    <tr>\n",
       "      <th>2</th>\n",
       "      <td>2</td>\n",
       "      <td>1991-04-01 00:00:00</td>\n",
       "      <td>0</td>\n",
       "      <td>0</td>\n",
       "      <td>SB</td>\n",
       "      <td>24</td>\n",
       "    </tr>\n",
       "    <tr>\n",
       "      <th>3</th>\n",
       "      <td>3</td>\n",
       "      <td>1991-04-01 00:00:00</td>\n",
       "      <td>0</td>\n",
       "      <td>1</td>\n",
       "      <td>EB</td>\n",
       "      <td>18</td>\n",
       "    </tr>\n",
       "    <tr>\n",
       "      <th>4</th>\n",
       "      <td>4</td>\n",
       "      <td>1991-04-01 00:00:00</td>\n",
       "      <td>0</td>\n",
       "      <td>1</td>\n",
       "      <td>NB</td>\n",
       "      <td>60</td>\n",
       "    </tr>\n",
       "    <tr>\n",
       "      <th>...</th>\n",
       "      <td>...</td>\n",
       "      <td>...</td>\n",
       "      <td>...</td>\n",
       "      <td>...</td>\n",
       "      <td>...</td>\n",
       "      <td>...</td>\n",
       "    </tr>\n",
       "    <tr>\n",
       "      <th>848830</th>\n",
       "      <td>848830</td>\n",
       "      <td>1991-09-30 11:40:00</td>\n",
       "      <td>2</td>\n",
       "      <td>3</td>\n",
       "      <td>NB</td>\n",
       "      <td>54</td>\n",
       "    </tr>\n",
       "    <tr>\n",
       "      <th>848831</th>\n",
       "      <td>848831</td>\n",
       "      <td>1991-09-30 11:40:00</td>\n",
       "      <td>2</td>\n",
       "      <td>3</td>\n",
       "      <td>NE</td>\n",
       "      <td>28</td>\n",
       "    </tr>\n",
       "    <tr>\n",
       "      <th>848832</th>\n",
       "      <td>848832</td>\n",
       "      <td>1991-09-30 11:40:00</td>\n",
       "      <td>2</td>\n",
       "      <td>3</td>\n",
       "      <td>SB</td>\n",
       "      <td>68</td>\n",
       "    </tr>\n",
       "    <tr>\n",
       "      <th>848833</th>\n",
       "      <td>848833</td>\n",
       "      <td>1991-09-30 11:40:00</td>\n",
       "      <td>2</td>\n",
       "      <td>3</td>\n",
       "      <td>SW</td>\n",
       "      <td>17</td>\n",
       "    </tr>\n",
       "    <tr>\n",
       "      <th>848834</th>\n",
       "      <td>848834</td>\n",
       "      <td>1991-09-30 11:40:00</td>\n",
       "      <td>2</td>\n",
       "      <td>3</td>\n",
       "      <td>WB</td>\n",
       "      <td>24</td>\n",
       "    </tr>\n",
       "  </tbody>\n",
       "</table>\n",
       "<p>848835 rows × 6 columns</p>\n",
       "</div>"
      ],
      "text/plain": [
       "        row_id                 time  x  y direction  congestion\n",
       "0            0  1991-04-01 00:00:00  0  0        EB          70\n",
       "1            1  1991-04-01 00:00:00  0  0        NB          49\n",
       "2            2  1991-04-01 00:00:00  0  0        SB          24\n",
       "3            3  1991-04-01 00:00:00  0  1        EB          18\n",
       "4            4  1991-04-01 00:00:00  0  1        NB          60\n",
       "...        ...                  ... .. ..       ...         ...\n",
       "848830  848830  1991-09-30 11:40:00  2  3        NB          54\n",
       "848831  848831  1991-09-30 11:40:00  2  3        NE          28\n",
       "848832  848832  1991-09-30 11:40:00  2  3        SB          68\n",
       "848833  848833  1991-09-30 11:40:00  2  3        SW          17\n",
       "848834  848834  1991-09-30 11:40:00  2  3        WB          24\n",
       "\n",
       "[848835 rows x 6 columns]"
      ]
     },
     "execution_count": 10,
     "metadata": {},
     "output_type": "execute_result"
    }
   ],
   "source": [
    "df_copy1"
   ]
  },
  {
   "cell_type": "code",
   "execution_count": 11,
   "id": "53fa1787",
   "metadata": {},
   "outputs": [],
   "source": [
    "df_copy1[\"time\"]= pd.to_datetime(df_copy1[\"time\"])"
   ]
  },
  {
   "cell_type": "code",
   "execution_count": 12,
   "id": "0dd95b53",
   "metadata": {},
   "outputs": [
    {
     "data": {
      "text/html": [
       "<div>\n",
       "<style scoped>\n",
       "    .dataframe tbody tr th:only-of-type {\n",
       "        vertical-align: middle;\n",
       "    }\n",
       "\n",
       "    .dataframe tbody tr th {\n",
       "        vertical-align: top;\n",
       "    }\n",
       "\n",
       "    .dataframe thead th {\n",
       "        text-align: right;\n",
       "    }\n",
       "</style>\n",
       "<table border=\"1\" class=\"dataframe\">\n",
       "  <thead>\n",
       "    <tr style=\"text-align: right;\">\n",
       "      <th></th>\n",
       "      <th>row_id</th>\n",
       "      <th>time</th>\n",
       "      <th>x</th>\n",
       "      <th>y</th>\n",
       "      <th>direction</th>\n",
       "      <th>congestion</th>\n",
       "    </tr>\n",
       "  </thead>\n",
       "  <tbody>\n",
       "    <tr>\n",
       "      <th>0</th>\n",
       "      <td>0</td>\n",
       "      <td>1991-04-01 00:00:00</td>\n",
       "      <td>0</td>\n",
       "      <td>0</td>\n",
       "      <td>EB</td>\n",
       "      <td>70</td>\n",
       "    </tr>\n",
       "    <tr>\n",
       "      <th>1</th>\n",
       "      <td>1</td>\n",
       "      <td>1991-04-01 00:00:00</td>\n",
       "      <td>0</td>\n",
       "      <td>0</td>\n",
       "      <td>NB</td>\n",
       "      <td>49</td>\n",
       "    </tr>\n",
       "    <tr>\n",
       "      <th>2</th>\n",
       "      <td>2</td>\n",
       "      <td>1991-04-01 00:00:00</td>\n",
       "      <td>0</td>\n",
       "      <td>0</td>\n",
       "      <td>SB</td>\n",
       "      <td>24</td>\n",
       "    </tr>\n",
       "    <tr>\n",
       "      <th>3</th>\n",
       "      <td>3</td>\n",
       "      <td>1991-04-01 00:00:00</td>\n",
       "      <td>0</td>\n",
       "      <td>1</td>\n",
       "      <td>EB</td>\n",
       "      <td>18</td>\n",
       "    </tr>\n",
       "    <tr>\n",
       "      <th>4</th>\n",
       "      <td>4</td>\n",
       "      <td>1991-04-01 00:00:00</td>\n",
       "      <td>0</td>\n",
       "      <td>1</td>\n",
       "      <td>NB</td>\n",
       "      <td>60</td>\n",
       "    </tr>\n",
       "    <tr>\n",
       "      <th>...</th>\n",
       "      <td>...</td>\n",
       "      <td>...</td>\n",
       "      <td>...</td>\n",
       "      <td>...</td>\n",
       "      <td>...</td>\n",
       "      <td>...</td>\n",
       "    </tr>\n",
       "    <tr>\n",
       "      <th>848830</th>\n",
       "      <td>848830</td>\n",
       "      <td>1991-09-30 11:40:00</td>\n",
       "      <td>2</td>\n",
       "      <td>3</td>\n",
       "      <td>NB</td>\n",
       "      <td>54</td>\n",
       "    </tr>\n",
       "    <tr>\n",
       "      <th>848831</th>\n",
       "      <td>848831</td>\n",
       "      <td>1991-09-30 11:40:00</td>\n",
       "      <td>2</td>\n",
       "      <td>3</td>\n",
       "      <td>NE</td>\n",
       "      <td>28</td>\n",
       "    </tr>\n",
       "    <tr>\n",
       "      <th>848832</th>\n",
       "      <td>848832</td>\n",
       "      <td>1991-09-30 11:40:00</td>\n",
       "      <td>2</td>\n",
       "      <td>3</td>\n",
       "      <td>SB</td>\n",
       "      <td>68</td>\n",
       "    </tr>\n",
       "    <tr>\n",
       "      <th>848833</th>\n",
       "      <td>848833</td>\n",
       "      <td>1991-09-30 11:40:00</td>\n",
       "      <td>2</td>\n",
       "      <td>3</td>\n",
       "      <td>SW</td>\n",
       "      <td>17</td>\n",
       "    </tr>\n",
       "    <tr>\n",
       "      <th>848834</th>\n",
       "      <td>848834</td>\n",
       "      <td>1991-09-30 11:40:00</td>\n",
       "      <td>2</td>\n",
       "      <td>3</td>\n",
       "      <td>WB</td>\n",
       "      <td>24</td>\n",
       "    </tr>\n",
       "  </tbody>\n",
       "</table>\n",
       "<p>848835 rows × 6 columns</p>\n",
       "</div>"
      ],
      "text/plain": [
       "        row_id                time  x  y direction  congestion\n",
       "0            0 1991-04-01 00:00:00  0  0        EB          70\n",
       "1            1 1991-04-01 00:00:00  0  0        NB          49\n",
       "2            2 1991-04-01 00:00:00  0  0        SB          24\n",
       "3            3 1991-04-01 00:00:00  0  1        EB          18\n",
       "4            4 1991-04-01 00:00:00  0  1        NB          60\n",
       "...        ...                 ... .. ..       ...         ...\n",
       "848830  848830 1991-09-30 11:40:00  2  3        NB          54\n",
       "848831  848831 1991-09-30 11:40:00  2  3        NE          28\n",
       "848832  848832 1991-09-30 11:40:00  2  3        SB          68\n",
       "848833  848833 1991-09-30 11:40:00  2  3        SW          17\n",
       "848834  848834 1991-09-30 11:40:00  2  3        WB          24\n",
       "\n",
       "[848835 rows x 6 columns]"
      ]
     },
     "execution_count": 12,
     "metadata": {},
     "output_type": "execute_result"
    }
   ],
   "source": [
    "df_copy1"
   ]
  },
  {
   "cell_type": "code",
   "execution_count": 13,
   "id": "54ebf34c",
   "metadata": {},
   "outputs": [],
   "source": [
    "# dropping row_id column\n",
    "\n",
    "df_copy1 = df_copy1.drop([\"row_id\"], axis=1)"
   ]
  },
  {
   "cell_type": "code",
   "execution_count": 14,
   "id": "0252e6e3",
   "metadata": {},
   "outputs": [],
   "source": [
    "# Adding features using time column\n",
    "\n",
    "df_copy1[\"Year\"]= df_copy1['time'].dt.year\n",
    "df_copy1[\"Month\"]= df_copy1['time'].dt.month\n",
    "df_copy1[\"Date_no\"]= df_copy1['time'].dt.day\n",
    "df_copy1[\"Hour\"]= df_copy1['time'].dt.hour\n",
    "df_copy1[\"Day\"]= df_copy1.time.dt.strftime(\"%A\")"
   ]
  },
  {
   "cell_type": "code",
   "execution_count": 15,
   "id": "7efc2ecf",
   "metadata": {},
   "outputs": [
    {
     "data": {
      "text/html": [
       "<div>\n",
       "<style scoped>\n",
       "    .dataframe tbody tr th:only-of-type {\n",
       "        vertical-align: middle;\n",
       "    }\n",
       "\n",
       "    .dataframe tbody tr th {\n",
       "        vertical-align: top;\n",
       "    }\n",
       "\n",
       "    .dataframe thead th {\n",
       "        text-align: right;\n",
       "    }\n",
       "</style>\n",
       "<table border=\"1\" class=\"dataframe\">\n",
       "  <thead>\n",
       "    <tr style=\"text-align: right;\">\n",
       "      <th></th>\n",
       "      <th>time</th>\n",
       "      <th>x</th>\n",
       "      <th>y</th>\n",
       "      <th>direction</th>\n",
       "      <th>congestion</th>\n",
       "      <th>Year</th>\n",
       "      <th>Month</th>\n",
       "      <th>Date_no</th>\n",
       "      <th>Hour</th>\n",
       "      <th>Day</th>\n",
       "    </tr>\n",
       "  </thead>\n",
       "  <tbody>\n",
       "    <tr>\n",
       "      <th>0</th>\n",
       "      <td>1991-04-01</td>\n",
       "      <td>0</td>\n",
       "      <td>0</td>\n",
       "      <td>EB</td>\n",
       "      <td>70</td>\n",
       "      <td>1991</td>\n",
       "      <td>4</td>\n",
       "      <td>1</td>\n",
       "      <td>0</td>\n",
       "      <td>Monday</td>\n",
       "    </tr>\n",
       "    <tr>\n",
       "      <th>1</th>\n",
       "      <td>1991-04-01</td>\n",
       "      <td>0</td>\n",
       "      <td>0</td>\n",
       "      <td>NB</td>\n",
       "      <td>49</td>\n",
       "      <td>1991</td>\n",
       "      <td>4</td>\n",
       "      <td>1</td>\n",
       "      <td>0</td>\n",
       "      <td>Monday</td>\n",
       "    </tr>\n",
       "    <tr>\n",
       "      <th>2</th>\n",
       "      <td>1991-04-01</td>\n",
       "      <td>0</td>\n",
       "      <td>0</td>\n",
       "      <td>SB</td>\n",
       "      <td>24</td>\n",
       "      <td>1991</td>\n",
       "      <td>4</td>\n",
       "      <td>1</td>\n",
       "      <td>0</td>\n",
       "      <td>Monday</td>\n",
       "    </tr>\n",
       "    <tr>\n",
       "      <th>3</th>\n",
       "      <td>1991-04-01</td>\n",
       "      <td>0</td>\n",
       "      <td>1</td>\n",
       "      <td>EB</td>\n",
       "      <td>18</td>\n",
       "      <td>1991</td>\n",
       "      <td>4</td>\n",
       "      <td>1</td>\n",
       "      <td>0</td>\n",
       "      <td>Monday</td>\n",
       "    </tr>\n",
       "    <tr>\n",
       "      <th>4</th>\n",
       "      <td>1991-04-01</td>\n",
       "      <td>0</td>\n",
       "      <td>1</td>\n",
       "      <td>NB</td>\n",
       "      <td>60</td>\n",
       "      <td>1991</td>\n",
       "      <td>4</td>\n",
       "      <td>1</td>\n",
       "      <td>0</td>\n",
       "      <td>Monday</td>\n",
       "    </tr>\n",
       "  </tbody>\n",
       "</table>\n",
       "</div>"
      ],
      "text/plain": [
       "        time  x  y direction  congestion  Year  Month  Date_no  Hour     Day\n",
       "0 1991-04-01  0  0        EB          70  1991      4        1     0  Monday\n",
       "1 1991-04-01  0  0        NB          49  1991      4        1     0  Monday\n",
       "2 1991-04-01  0  0        SB          24  1991      4        1     0  Monday\n",
       "3 1991-04-01  0  1        EB          18  1991      4        1     0  Monday\n",
       "4 1991-04-01  0  1        NB          60  1991      4        1     0  Monday"
      ]
     },
     "execution_count": 15,
     "metadata": {},
     "output_type": "execute_result"
    }
   ],
   "source": [
    "df_copy1.head()"
   ]
  },
  {
   "cell_type": "markdown",
   "id": "25e6dc3c",
   "metadata": {},
   "source": [
    "### Encoding the dataset"
   ]
  },
  {
   "cell_type": "code",
   "execution_count": 16,
   "id": "6c445188",
   "metadata": {},
   "outputs": [],
   "source": [
    "x = df_copy1\n",
    "x = x.drop(columns=['time', 'congestion'])"
   ]
  },
  {
   "cell_type": "code",
   "execution_count": 17,
   "id": "4712b81b",
   "metadata": {},
   "outputs": [
    {
     "data": {
      "text/html": [
       "<div>\n",
       "<style scoped>\n",
       "    .dataframe tbody tr th:only-of-type {\n",
       "        vertical-align: middle;\n",
       "    }\n",
       "\n",
       "    .dataframe tbody tr th {\n",
       "        vertical-align: top;\n",
       "    }\n",
       "\n",
       "    .dataframe thead th {\n",
       "        text-align: right;\n",
       "    }\n",
       "</style>\n",
       "<table border=\"1\" class=\"dataframe\">\n",
       "  <thead>\n",
       "    <tr style=\"text-align: right;\">\n",
       "      <th></th>\n",
       "      <th>x</th>\n",
       "      <th>y</th>\n",
       "      <th>direction</th>\n",
       "      <th>Year</th>\n",
       "      <th>Month</th>\n",
       "      <th>Date_no</th>\n",
       "      <th>Hour</th>\n",
       "      <th>Day</th>\n",
       "    </tr>\n",
       "  </thead>\n",
       "  <tbody>\n",
       "    <tr>\n",
       "      <th>0</th>\n",
       "      <td>0</td>\n",
       "      <td>0</td>\n",
       "      <td>EB</td>\n",
       "      <td>1991</td>\n",
       "      <td>4</td>\n",
       "      <td>1</td>\n",
       "      <td>0</td>\n",
       "      <td>Monday</td>\n",
       "    </tr>\n",
       "    <tr>\n",
       "      <th>1</th>\n",
       "      <td>0</td>\n",
       "      <td>0</td>\n",
       "      <td>NB</td>\n",
       "      <td>1991</td>\n",
       "      <td>4</td>\n",
       "      <td>1</td>\n",
       "      <td>0</td>\n",
       "      <td>Monday</td>\n",
       "    </tr>\n",
       "    <tr>\n",
       "      <th>2</th>\n",
       "      <td>0</td>\n",
       "      <td>0</td>\n",
       "      <td>SB</td>\n",
       "      <td>1991</td>\n",
       "      <td>4</td>\n",
       "      <td>1</td>\n",
       "      <td>0</td>\n",
       "      <td>Monday</td>\n",
       "    </tr>\n",
       "    <tr>\n",
       "      <th>3</th>\n",
       "      <td>0</td>\n",
       "      <td>1</td>\n",
       "      <td>EB</td>\n",
       "      <td>1991</td>\n",
       "      <td>4</td>\n",
       "      <td>1</td>\n",
       "      <td>0</td>\n",
       "      <td>Monday</td>\n",
       "    </tr>\n",
       "    <tr>\n",
       "      <th>4</th>\n",
       "      <td>0</td>\n",
       "      <td>1</td>\n",
       "      <td>NB</td>\n",
       "      <td>1991</td>\n",
       "      <td>4</td>\n",
       "      <td>1</td>\n",
       "      <td>0</td>\n",
       "      <td>Monday</td>\n",
       "    </tr>\n",
       "    <tr>\n",
       "      <th>...</th>\n",
       "      <td>...</td>\n",
       "      <td>...</td>\n",
       "      <td>...</td>\n",
       "      <td>...</td>\n",
       "      <td>...</td>\n",
       "      <td>...</td>\n",
       "      <td>...</td>\n",
       "      <td>...</td>\n",
       "    </tr>\n",
       "    <tr>\n",
       "      <th>848830</th>\n",
       "      <td>2</td>\n",
       "      <td>3</td>\n",
       "      <td>NB</td>\n",
       "      <td>1991</td>\n",
       "      <td>9</td>\n",
       "      <td>30</td>\n",
       "      <td>11</td>\n",
       "      <td>Monday</td>\n",
       "    </tr>\n",
       "    <tr>\n",
       "      <th>848831</th>\n",
       "      <td>2</td>\n",
       "      <td>3</td>\n",
       "      <td>NE</td>\n",
       "      <td>1991</td>\n",
       "      <td>9</td>\n",
       "      <td>30</td>\n",
       "      <td>11</td>\n",
       "      <td>Monday</td>\n",
       "    </tr>\n",
       "    <tr>\n",
       "      <th>848832</th>\n",
       "      <td>2</td>\n",
       "      <td>3</td>\n",
       "      <td>SB</td>\n",
       "      <td>1991</td>\n",
       "      <td>9</td>\n",
       "      <td>30</td>\n",
       "      <td>11</td>\n",
       "      <td>Monday</td>\n",
       "    </tr>\n",
       "    <tr>\n",
       "      <th>848833</th>\n",
       "      <td>2</td>\n",
       "      <td>3</td>\n",
       "      <td>SW</td>\n",
       "      <td>1991</td>\n",
       "      <td>9</td>\n",
       "      <td>30</td>\n",
       "      <td>11</td>\n",
       "      <td>Monday</td>\n",
       "    </tr>\n",
       "    <tr>\n",
       "      <th>848834</th>\n",
       "      <td>2</td>\n",
       "      <td>3</td>\n",
       "      <td>WB</td>\n",
       "      <td>1991</td>\n",
       "      <td>9</td>\n",
       "      <td>30</td>\n",
       "      <td>11</td>\n",
       "      <td>Monday</td>\n",
       "    </tr>\n",
       "  </tbody>\n",
       "</table>\n",
       "<p>848835 rows × 8 columns</p>\n",
       "</div>"
      ],
      "text/plain": [
       "        x  y direction  Year  Month  Date_no  Hour     Day\n",
       "0       0  0        EB  1991      4        1     0  Monday\n",
       "1       0  0        NB  1991      4        1     0  Monday\n",
       "2       0  0        SB  1991      4        1     0  Monday\n",
       "3       0  1        EB  1991      4        1     0  Monday\n",
       "4       0  1        NB  1991      4        1     0  Monday\n",
       "...    .. ..       ...   ...    ...      ...   ...     ...\n",
       "848830  2  3        NB  1991      9       30    11  Monday\n",
       "848831  2  3        NE  1991      9       30    11  Monday\n",
       "848832  2  3        SB  1991      9       30    11  Monday\n",
       "848833  2  3        SW  1991      9       30    11  Monday\n",
       "848834  2  3        WB  1991      9       30    11  Monday\n",
       "\n",
       "[848835 rows x 8 columns]"
      ]
     },
     "execution_count": 17,
     "metadata": {},
     "output_type": "execute_result"
    }
   ],
   "source": [
    "x"
   ]
  },
  {
   "cell_type": "code",
   "execution_count": 18,
   "id": "86e4e2b1",
   "metadata": {},
   "outputs": [],
   "source": [
    "y = df_copy1.iloc[:,4]"
   ]
  },
  {
   "cell_type": "code",
   "execution_count": 19,
   "id": "45108caf",
   "metadata": {},
   "outputs": [
    {
     "data": {
      "text/plain": [
       "0         70\n",
       "1         49\n",
       "2         24\n",
       "3         18\n",
       "4         60\n",
       "          ..\n",
       "848830    54\n",
       "848831    28\n",
       "848832    68\n",
       "848833    17\n",
       "848834    24\n",
       "Name: congestion, Length: 848835, dtype: int64"
      ]
     },
     "execution_count": 19,
     "metadata": {},
     "output_type": "execute_result"
    }
   ],
   "source": [
    "y"
   ]
  },
  {
   "cell_type": "code",
   "execution_count": 20,
   "id": "6c33f765",
   "metadata": {},
   "outputs": [],
   "source": [
    "from sklearn.preprocessing import LabelEncoder"
   ]
  },
  {
   "cell_type": "code",
   "execution_count": 21,
   "id": "6e36cc8b",
   "metadata": {},
   "outputs": [],
   "source": [
    "x['direction'] = LabelEncoder().fit_transform(x['direction'])\n",
    "x['Day'] = LabelEncoder().fit_transform(x['Day'])"
   ]
  },
  {
   "cell_type": "code",
   "execution_count": 22,
   "id": "a895ff86",
   "metadata": {},
   "outputs": [
    {
     "data": {
      "text/html": [
       "<div>\n",
       "<style scoped>\n",
       "    .dataframe tbody tr th:only-of-type {\n",
       "        vertical-align: middle;\n",
       "    }\n",
       "\n",
       "    .dataframe tbody tr th {\n",
       "        vertical-align: top;\n",
       "    }\n",
       "\n",
       "    .dataframe thead th {\n",
       "        text-align: right;\n",
       "    }\n",
       "</style>\n",
       "<table border=\"1\" class=\"dataframe\">\n",
       "  <thead>\n",
       "    <tr style=\"text-align: right;\">\n",
       "      <th></th>\n",
       "      <th>x</th>\n",
       "      <th>y</th>\n",
       "      <th>direction</th>\n",
       "      <th>Year</th>\n",
       "      <th>Month</th>\n",
       "      <th>Date_no</th>\n",
       "      <th>Hour</th>\n",
       "      <th>Day</th>\n",
       "    </tr>\n",
       "  </thead>\n",
       "  <tbody>\n",
       "    <tr>\n",
       "      <th>0</th>\n",
       "      <td>0</td>\n",
       "      <td>0</td>\n",
       "      <td>0</td>\n",
       "      <td>1991</td>\n",
       "      <td>4</td>\n",
       "      <td>1</td>\n",
       "      <td>0</td>\n",
       "      <td>1</td>\n",
       "    </tr>\n",
       "    <tr>\n",
       "      <th>1</th>\n",
       "      <td>0</td>\n",
       "      <td>0</td>\n",
       "      <td>1</td>\n",
       "      <td>1991</td>\n",
       "      <td>4</td>\n",
       "      <td>1</td>\n",
       "      <td>0</td>\n",
       "      <td>1</td>\n",
       "    </tr>\n",
       "    <tr>\n",
       "      <th>2</th>\n",
       "      <td>0</td>\n",
       "      <td>0</td>\n",
       "      <td>4</td>\n",
       "      <td>1991</td>\n",
       "      <td>4</td>\n",
       "      <td>1</td>\n",
       "      <td>0</td>\n",
       "      <td>1</td>\n",
       "    </tr>\n",
       "    <tr>\n",
       "      <th>3</th>\n",
       "      <td>0</td>\n",
       "      <td>1</td>\n",
       "      <td>0</td>\n",
       "      <td>1991</td>\n",
       "      <td>4</td>\n",
       "      <td>1</td>\n",
       "      <td>0</td>\n",
       "      <td>1</td>\n",
       "    </tr>\n",
       "    <tr>\n",
       "      <th>4</th>\n",
       "      <td>0</td>\n",
       "      <td>1</td>\n",
       "      <td>1</td>\n",
       "      <td>1991</td>\n",
       "      <td>4</td>\n",
       "      <td>1</td>\n",
       "      <td>0</td>\n",
       "      <td>1</td>\n",
       "    </tr>\n",
       "    <tr>\n",
       "      <th>...</th>\n",
       "      <td>...</td>\n",
       "      <td>...</td>\n",
       "      <td>...</td>\n",
       "      <td>...</td>\n",
       "      <td>...</td>\n",
       "      <td>...</td>\n",
       "      <td>...</td>\n",
       "      <td>...</td>\n",
       "    </tr>\n",
       "    <tr>\n",
       "      <th>848830</th>\n",
       "      <td>2</td>\n",
       "      <td>3</td>\n",
       "      <td>1</td>\n",
       "      <td>1991</td>\n",
       "      <td>9</td>\n",
       "      <td>30</td>\n",
       "      <td>11</td>\n",
       "      <td>1</td>\n",
       "    </tr>\n",
       "    <tr>\n",
       "      <th>848831</th>\n",
       "      <td>2</td>\n",
       "      <td>3</td>\n",
       "      <td>2</td>\n",
       "      <td>1991</td>\n",
       "      <td>9</td>\n",
       "      <td>30</td>\n",
       "      <td>11</td>\n",
       "      <td>1</td>\n",
       "    </tr>\n",
       "    <tr>\n",
       "      <th>848832</th>\n",
       "      <td>2</td>\n",
       "      <td>3</td>\n",
       "      <td>4</td>\n",
       "      <td>1991</td>\n",
       "      <td>9</td>\n",
       "      <td>30</td>\n",
       "      <td>11</td>\n",
       "      <td>1</td>\n",
       "    </tr>\n",
       "    <tr>\n",
       "      <th>848833</th>\n",
       "      <td>2</td>\n",
       "      <td>3</td>\n",
       "      <td>6</td>\n",
       "      <td>1991</td>\n",
       "      <td>9</td>\n",
       "      <td>30</td>\n",
       "      <td>11</td>\n",
       "      <td>1</td>\n",
       "    </tr>\n",
       "    <tr>\n",
       "      <th>848834</th>\n",
       "      <td>2</td>\n",
       "      <td>3</td>\n",
       "      <td>7</td>\n",
       "      <td>1991</td>\n",
       "      <td>9</td>\n",
       "      <td>30</td>\n",
       "      <td>11</td>\n",
       "      <td>1</td>\n",
       "    </tr>\n",
       "  </tbody>\n",
       "</table>\n",
       "<p>848835 rows × 8 columns</p>\n",
       "</div>"
      ],
      "text/plain": [
       "        x  y  direction  Year  Month  Date_no  Hour  Day\n",
       "0       0  0          0  1991      4        1     0    1\n",
       "1       0  0          1  1991      4        1     0    1\n",
       "2       0  0          4  1991      4        1     0    1\n",
       "3       0  1          0  1991      4        1     0    1\n",
       "4       0  1          1  1991      4        1     0    1\n",
       "...    .. ..        ...   ...    ...      ...   ...  ...\n",
       "848830  2  3          1  1991      9       30    11    1\n",
       "848831  2  3          2  1991      9       30    11    1\n",
       "848832  2  3          4  1991      9       30    11    1\n",
       "848833  2  3          6  1991      9       30    11    1\n",
       "848834  2  3          7  1991      9       30    11    1\n",
       "\n",
       "[848835 rows x 8 columns]"
      ]
     },
     "execution_count": 22,
     "metadata": {},
     "output_type": "execute_result"
    }
   ],
   "source": [
    "x"
   ]
  },
  {
   "cell_type": "code",
   "execution_count": 23,
   "id": "e5130f7f",
   "metadata": {},
   "outputs": [],
   "source": [
    "# Making copies of datasets for different algorithms\n",
    "\n",
    "x_svm = x.values\n",
    "y_svm = y.values\n",
    "x_dt = x.values\n",
    "y_dt = y.values\n",
    "x_rf = x.values\n",
    "y_rf = y.values"
   ]
  },
  {
   "cell_type": "markdown",
   "id": "f4619ddd",
   "metadata": {},
   "source": [
    "# Support Vector Machines"
   ]
  },
  {
   "cell_type": "code",
   "execution_count": 24,
   "id": "eeaad265",
   "metadata": {},
   "outputs": [],
   "source": [
    "# splitting the dataset into training and test sets\n",
    "\n",
    "from sklearn.model_selection import train_test_split\n",
    "x_train, x_test, y_train, y_test = train_test_split(x_svm, y_svm, test_size = 0.25, random_state = 0)"
   ]
  },
  {
   "cell_type": "code",
   "execution_count": 25,
   "id": "344507de",
   "metadata": {},
   "outputs": [
    {
     "name": "stdout",
     "output_type": "stream",
     "text": [
      "[[ 1  0  7 ... 22  0  1]\n",
      " [ 1  3  4 ... 24 21  6]\n",
      " [ 0  2  1 ... 25 22  5]\n",
      " ...\n",
      " [ 2  0  7 ... 26  7  0]\n",
      " [ 0  1  1 ...  3  9  6]\n",
      " [ 0  3  7 ...  5 13  6]]\n"
     ]
    }
   ],
   "source": [
    "print(x_train)"
   ]
  },
  {
   "cell_type": "code",
   "execution_count": 26,
   "id": "29213649",
   "metadata": {},
   "outputs": [
    {
     "name": "stdout",
     "output_type": "stream",
     "text": [
      "[38 64 52 ... 65 70 37]\n"
     ]
    }
   ],
   "source": [
    "print(y_train)"
   ]
  },
  {
   "cell_type": "code",
   "execution_count": 27,
   "id": "3754e1e8",
   "metadata": {},
   "outputs": [
    {
     "name": "stdout",
     "output_type": "stream",
     "text": [
      "[[ 2  2  4 ... 27  2  2]\n",
      " [ 2  2  5 ... 22 18  1]\n",
      " [ 1  2  2 ... 23 17  5]\n",
      " ...\n",
      " [ 1  0  7 ... 28  1  5]\n",
      " [ 1  0  7 ... 24  7  2]\n",
      " [ 0  3  6 ... 28  7  2]]\n"
     ]
    }
   ],
   "source": [
    "print(x_test)"
   ]
  },
  {
   "cell_type": "code",
   "execution_count": 28,
   "id": "bc57beec",
   "metadata": {},
   "outputs": [
    {
     "name": "stdout",
     "output_type": "stream",
     "text": [
      "[33 60 57 ... 45 39 28]\n"
     ]
    }
   ],
   "source": [
    "print(y_test)"
   ]
  },
  {
   "cell_type": "markdown",
   "id": "b8b213dc",
   "metadata": {},
   "source": [
    "### Feature Scaling"
   ]
  },
  {
   "cell_type": "code",
   "execution_count": 29,
   "id": "3b9a10c6",
   "metadata": {},
   "outputs": [],
   "source": [
    "from sklearn.preprocessing import StandardScaler\n",
    "sc = StandardScaler()\n",
    "x_train = sc.fit_transform(x_train)\n",
    "x_test = sc.transform(x_test)"
   ]
  },
  {
   "cell_type": "code",
   "execution_count": 30,
   "id": "034fc8cf",
   "metadata": {},
   "outputs": [
    {
     "name": "stdout",
     "output_type": "stream",
     "text": [
      "[[-0.17210263 -1.49843972  1.49192382 ...  0.71769877 -1.65712078\n",
      "  -0.99587567]\n",
      " [-0.17210263  1.25582671  0.30990541 ...  0.94519522  1.37498494\n",
      "   1.50282116]\n",
      " [-1.41976828  0.3377379  -0.87211299 ...  1.05894345  1.51937093\n",
      "   1.00308179]\n",
      " ...\n",
      " [ 1.07556302 -1.49843972  1.49192382 ...  1.17269168 -0.64641887\n",
      "  -1.49561503]\n",
      " [-1.41976828 -0.58035091 -0.87211299 ... -1.44351754 -0.3576469\n",
      "   1.50282116]\n",
      " [-1.41976828  1.25582671  1.49192382 ... -1.21602109  0.21989705\n",
      "   1.50282116]]\n"
     ]
    }
   ],
   "source": [
    "print(x_train)"
   ]
  },
  {
   "cell_type": "code",
   "execution_count": 31,
   "id": "2503c0cd",
   "metadata": {},
   "outputs": [
    {
     "name": "stdout",
     "output_type": "stream",
     "text": [
      "[[ 1.07556302  0.3377379   0.30990541 ...  1.28643991 -1.36834881\n",
      "  -0.4961363 ]\n",
      " [ 1.07556302  0.3377379   0.70391155 ...  0.71769877  0.94182698\n",
      "  -0.99587567]\n",
      " [-0.17210263  0.3377379  -0.47810686 ...  0.831447    0.79744099\n",
      "   1.00308179]\n",
      " ...\n",
      " [-0.17210263 -1.49843972  1.49192382 ...  1.40018813 -1.5127348\n",
      "   1.00308179]\n",
      " [-0.17210263 -1.49843972  1.49192382 ...  0.94519522 -0.64641887\n",
      "  -0.4961363 ]\n",
      " [-1.41976828  1.25582671  1.09791768 ...  1.40018813 -0.64641887\n",
      "  -0.4961363 ]]\n"
     ]
    }
   ],
   "source": [
    "print(x_test)"
   ]
  },
  {
   "cell_type": "markdown",
   "id": "3d5d85dc",
   "metadata": {},
   "source": [
    "### Training SVM model on training set"
   ]
  },
  {
   "cell_type": "code",
   "execution_count": 82,
   "id": "c907cc29",
   "metadata": {},
   "outputs": [
    {
     "name": "stderr",
     "output_type": "stream",
     "text": [
      "C:\\Users\\priya\\anaconda3\\lib\\site-packages\\sklearn\\svm\\_base.py:255: ConvergenceWarning: Solver terminated early (max_iter=500).  Consider pre-processing your data with StandardScaler or MinMaxScaler.\n",
      "  warnings.warn('Solver terminated early (max_iter=%i).'\n"
     ]
    },
    {
     "data": {
      "text/plain": [
       "SVR(max_iter=500)"
      ]
     },
     "execution_count": 82,
     "metadata": {},
     "output_type": "execute_result"
    }
   ],
   "source": [
    "# from sklearn.svm import SVR\n",
    "# classifier = SVC(kernel='linear',random_state=0)\n",
    "# classifier.fit(x_train, y_train)\n",
    "\n",
    "from sklearn.svm import SVR\n",
    "regressor = SVR(kernel='rbf',max_iter = 500)\n",
    "regressor.fit(x_train, y_train)"
   ]
  },
  {
   "cell_type": "markdown",
   "id": "70d8eae3",
   "metadata": {},
   "source": [
    "### Checking Mean Squared Error and Accuracy score"
   ]
  },
  {
   "cell_type": "code",
   "execution_count": 83,
   "id": "2a3af34d",
   "metadata": {},
   "outputs": [
    {
     "data": {
      "text/plain": [
       "283.69648761127536"
      ]
     },
     "execution_count": 83,
     "metadata": {},
     "output_type": "execute_result"
    }
   ],
   "source": [
    "from sklearn.metrics import mean_squared_error\n",
    "y_pred = regressor.predict(x_test)\n",
    "mean_squared_error(y_test,y_pred)"
   ]
  },
  {
   "cell_type": "code",
   "execution_count": 84,
   "id": "51a2bddf",
   "metadata": {},
   "outputs": [
    {
     "data": {
      "text/plain": [
       "-0.0015565538699444659"
      ]
     },
     "execution_count": 84,
     "metadata": {},
     "output_type": "execute_result"
    }
   ],
   "source": [
    "regressor.score(x_test,y_test)"
   ]
  },
  {
   "cell_type": "markdown",
   "id": "3e00cd7f",
   "metadata": {},
   "source": [
    "# Random Forest Model"
   ]
  },
  {
   "cell_type": "code",
   "execution_count": 52,
   "id": "ed6590b6",
   "metadata": {},
   "outputs": [],
   "source": [
    "# Splitting the dataset into the Training set and Test set\n",
    "\n",
    "x_train, x_test, y_train, y_test = train_test_split(x_rf, y_rf, test_size = 0.25, random_state = 0)"
   ]
  },
  {
   "cell_type": "code",
   "execution_count": 53,
   "id": "a9762cea",
   "metadata": {},
   "outputs": [
    {
     "name": "stdout",
     "output_type": "stream",
     "text": [
      "[[ 1  0  7 ... 22  0  1]\n",
      " [ 1  3  4 ... 24 21  6]\n",
      " [ 0  2  1 ... 25 22  5]\n",
      " ...\n",
      " [ 2  0  7 ... 26  7  0]\n",
      " [ 0  1  1 ...  3  9  6]\n",
      " [ 0  3  7 ...  5 13  6]]\n"
     ]
    }
   ],
   "source": [
    "print(x_train)"
   ]
  },
  {
   "cell_type": "code",
   "execution_count": 54,
   "id": "55f2098f",
   "metadata": {},
   "outputs": [
    {
     "name": "stdout",
     "output_type": "stream",
     "text": [
      "[38 64 52 ... 65 70 37]\n"
     ]
    }
   ],
   "source": [
    "print(y_train)"
   ]
  },
  {
   "cell_type": "code",
   "execution_count": 55,
   "id": "ec611ce6",
   "metadata": {},
   "outputs": [
    {
     "name": "stdout",
     "output_type": "stream",
     "text": [
      "[[ 2  2  4 ... 27  2  2]\n",
      " [ 2  2  5 ... 22 18  1]\n",
      " [ 1  2  2 ... 23 17  5]\n",
      " ...\n",
      " [ 1  0  7 ... 28  1  5]\n",
      " [ 1  0  7 ... 24  7  2]\n",
      " [ 0  3  6 ... 28  7  2]]\n"
     ]
    }
   ],
   "source": [
    "print(x_test)"
   ]
  },
  {
   "cell_type": "code",
   "execution_count": 56,
   "id": "fe773861",
   "metadata": {},
   "outputs": [
    {
     "name": "stdout",
     "output_type": "stream",
     "text": [
      "[33 60 57 ... 45 39 28]\n"
     ]
    }
   ],
   "source": [
    "print(y_test)"
   ]
  },
  {
   "cell_type": "markdown",
   "id": "4b306b6e",
   "metadata": {},
   "source": [
    "### Feature Scaling"
   ]
  },
  {
   "cell_type": "code",
   "execution_count": 57,
   "id": "b78820d7",
   "metadata": {},
   "outputs": [],
   "source": [
    "sc = StandardScaler()\n",
    "x_train = sc.fit_transform(x_train)\n",
    "x_test = sc.transform(x_test)"
   ]
  },
  {
   "cell_type": "code",
   "execution_count": 58,
   "id": "15d98a9b",
   "metadata": {},
   "outputs": [
    {
     "name": "stdout",
     "output_type": "stream",
     "text": [
      "[[-0.17210263 -1.49843972  1.49192382 ...  0.71769877 -1.65712078\n",
      "  -0.99587567]\n",
      " [-0.17210263  1.25582671  0.30990541 ...  0.94519522  1.37498494\n",
      "   1.50282116]\n",
      " [-1.41976828  0.3377379  -0.87211299 ...  1.05894345  1.51937093\n",
      "   1.00308179]\n",
      " ...\n",
      " [ 1.07556302 -1.49843972  1.49192382 ...  1.17269168 -0.64641887\n",
      "  -1.49561503]\n",
      " [-1.41976828 -0.58035091 -0.87211299 ... -1.44351754 -0.3576469\n",
      "   1.50282116]\n",
      " [-1.41976828  1.25582671  1.49192382 ... -1.21602109  0.21989705\n",
      "   1.50282116]]\n"
     ]
    }
   ],
   "source": [
    "print(x_train)"
   ]
  },
  {
   "cell_type": "code",
   "execution_count": 59,
   "id": "b847f5f2",
   "metadata": {},
   "outputs": [
    {
     "name": "stdout",
     "output_type": "stream",
     "text": [
      "[[ 1.07556302  0.3377379   0.30990541 ...  1.28643991 -1.36834881\n",
      "  -0.4961363 ]\n",
      " [ 1.07556302  0.3377379   0.70391155 ...  0.71769877  0.94182698\n",
      "  -0.99587567]\n",
      " [-0.17210263  0.3377379  -0.47810686 ...  0.831447    0.79744099\n",
      "   1.00308179]\n",
      " ...\n",
      " [-0.17210263 -1.49843972  1.49192382 ...  1.40018813 -1.5127348\n",
      "   1.00308179]\n",
      " [-0.17210263 -1.49843972  1.49192382 ...  0.94519522 -0.64641887\n",
      "  -0.4961363 ]\n",
      " [-1.41976828  1.25582671  1.09791768 ...  1.40018813 -0.64641887\n",
      "  -0.4961363 ]]\n"
     ]
    }
   ],
   "source": [
    "print(x_test)"
   ]
  },
  {
   "cell_type": "markdown",
   "id": "2d822a95",
   "metadata": {},
   "source": [
    "### Training the Random Forest Regressor model on the Training set"
   ]
  },
  {
   "cell_type": "code",
   "execution_count": 86,
   "id": "dd8713a5",
   "metadata": {},
   "outputs": [
    {
     "data": {
      "text/plain": [
       "RandomForestRegressor(n_estimators=20, random_state=0)"
      ]
     },
     "execution_count": 86,
     "metadata": {},
     "output_type": "execute_result"
    }
   ],
   "source": [
    "# from sklearn.ensemble import RandomForestClassifier\n",
    "# classifier = RandomForestClassifier(n_estimators = 10, criterion = 'entropy', random_state = 0)\n",
    "# classifier.fit(x_train, y_train)\n",
    "\n",
    "from sklearn.ensemble import RandomForestRegressor\n",
    "regressor2 = RandomForestRegressor(n_estimators = 20, random_state = 0)\n",
    "regressor2.fit(x_train, y_train)"
   ]
  },
  {
   "cell_type": "markdown",
   "id": "3884a6e9",
   "metadata": {},
   "source": [
    "### Checking Mean Squared Error and Accuracy score"
   ]
  },
  {
   "cell_type": "code",
   "execution_count": 87,
   "id": "456dd797",
   "metadata": {},
   "outputs": [
    {
     "data": {
      "text/plain": [
       "85.61575633551502"
      ]
     },
     "execution_count": 87,
     "metadata": {},
     "output_type": "execute_result"
    }
   ],
   "source": [
    "# from sklearn.metrics import confusion_matrix, accuracy_score\n",
    "# y_pred = classifier.predict(x_test)\n",
    "# cm = confusion_matrix(y_test, y_pred)\n",
    "# print(cm)\n",
    "# accuracy_score(y_test, y_pred)\n",
    "\n",
    "from sklearn.metrics import mean_squared_error\n",
    "y_pred = regressor2.predict(x_test)\n",
    "mean_squared_error(y_test,y_pred)"
   ]
  },
  {
   "cell_type": "code",
   "execution_count": 88,
   "id": "9b4ac695",
   "metadata": {},
   "outputs": [
    {
     "data": {
      "text/plain": [
       "0.6977438015028874"
      ]
     },
     "execution_count": 88,
     "metadata": {},
     "output_type": "execute_result"
    }
   ],
   "source": [
    "regressor2.score(x_test,y_test)"
   ]
  },
  {
   "cell_type": "markdown",
   "id": "deb81dbc",
   "metadata": {},
   "source": [
    "# Decision Tree Classification"
   ]
  },
  {
   "cell_type": "code",
   "execution_count": 69,
   "id": "a83093df",
   "metadata": {},
   "outputs": [],
   "source": [
    "# Splitting the dataset into the Training set and Test set\n",
    "x_train, x_test, y_train, y_test = train_test_split(x_dt, y_dt, test_size = 0.25, random_state = 0)"
   ]
  },
  {
   "cell_type": "code",
   "execution_count": 70,
   "id": "ed3a07e5",
   "metadata": {},
   "outputs": [
    {
     "name": "stdout",
     "output_type": "stream",
     "text": [
      "[[ 1  0  7 ... 22  0  1]\n",
      " [ 1  3  4 ... 24 21  6]\n",
      " [ 0  2  1 ... 25 22  5]\n",
      " ...\n",
      " [ 2  0  7 ... 26  7  0]\n",
      " [ 0  1  1 ...  3  9  6]\n",
      " [ 0  3  7 ...  5 13  6]]\n"
     ]
    }
   ],
   "source": [
    "print(x_train)"
   ]
  },
  {
   "cell_type": "code",
   "execution_count": 71,
   "id": "1edc3ffc",
   "metadata": {},
   "outputs": [
    {
     "name": "stdout",
     "output_type": "stream",
     "text": [
      "[38 64 52 ... 65 70 37]\n"
     ]
    }
   ],
   "source": [
    "print(y_train)"
   ]
  },
  {
   "cell_type": "code",
   "execution_count": 72,
   "id": "6ac5aa88",
   "metadata": {},
   "outputs": [
    {
     "name": "stdout",
     "output_type": "stream",
     "text": [
      "[[ 2  2  4 ... 27  2  2]\n",
      " [ 2  2  5 ... 22 18  1]\n",
      " [ 1  2  2 ... 23 17  5]\n",
      " ...\n",
      " [ 1  0  7 ... 28  1  5]\n",
      " [ 1  0  7 ... 24  7  2]\n",
      " [ 0  3  6 ... 28  7  2]]\n"
     ]
    }
   ],
   "source": [
    "print(x_test)"
   ]
  },
  {
   "cell_type": "code",
   "execution_count": 73,
   "id": "27e10834",
   "metadata": {},
   "outputs": [
    {
     "name": "stdout",
     "output_type": "stream",
     "text": [
      "[33 60 57 ... 45 39 28]\n"
     ]
    }
   ],
   "source": [
    "print(y_test)"
   ]
  },
  {
   "cell_type": "markdown",
   "id": "8dca3015",
   "metadata": {},
   "source": [
    "### Feature Scaling"
   ]
  },
  {
   "cell_type": "code",
   "execution_count": 75,
   "id": "8a2002ec",
   "metadata": {},
   "outputs": [],
   "source": [
    "sc = StandardScaler()\n",
    "x_train = sc.fit_transform(x_train)\n",
    "x_test = sc.transform(x_test)"
   ]
  },
  {
   "cell_type": "code",
   "execution_count": 76,
   "id": "427c35a9",
   "metadata": {},
   "outputs": [
    {
     "name": "stdout",
     "output_type": "stream",
     "text": [
      "[[-0.17210263 -1.49843972  1.49192382 ...  0.71769877 -1.65712078\n",
      "  -0.99587567]\n",
      " [-0.17210263  1.25582671  0.30990541 ...  0.94519522  1.37498494\n",
      "   1.50282116]\n",
      " [-1.41976828  0.3377379  -0.87211299 ...  1.05894345  1.51937093\n",
      "   1.00308179]\n",
      " ...\n",
      " [ 1.07556302 -1.49843972  1.49192382 ...  1.17269168 -0.64641887\n",
      "  -1.49561503]\n",
      " [-1.41976828 -0.58035091 -0.87211299 ... -1.44351754 -0.3576469\n",
      "   1.50282116]\n",
      " [-1.41976828  1.25582671  1.49192382 ... -1.21602109  0.21989705\n",
      "   1.50282116]]\n"
     ]
    }
   ],
   "source": [
    "print(x_train)"
   ]
  },
  {
   "cell_type": "code",
   "execution_count": 77,
   "id": "846ab556",
   "metadata": {},
   "outputs": [
    {
     "name": "stdout",
     "output_type": "stream",
     "text": [
      "[[ 1.07556302  0.3377379   0.30990541 ...  1.28643991 -1.36834881\n",
      "  -0.4961363 ]\n",
      " [ 1.07556302  0.3377379   0.70391155 ...  0.71769877  0.94182698\n",
      "  -0.99587567]\n",
      " [-0.17210263  0.3377379  -0.47810686 ...  0.831447    0.79744099\n",
      "   1.00308179]\n",
      " ...\n",
      " [-0.17210263 -1.49843972  1.49192382 ...  1.40018813 -1.5127348\n",
      "   1.00308179]\n",
      " [-0.17210263 -1.49843972  1.49192382 ...  0.94519522 -0.64641887\n",
      "  -0.4961363 ]\n",
      " [-1.41976828  1.25582671  1.09791768 ...  1.40018813 -0.64641887\n",
      "  -0.4961363 ]]\n"
     ]
    }
   ],
   "source": [
    "print(x_test)"
   ]
  },
  {
   "cell_type": "markdown",
   "id": "22e75a58",
   "metadata": {},
   "source": [
    "### Training the Decision Tree Regressor model on the Training set"
   ]
  },
  {
   "cell_type": "code",
   "execution_count": 78,
   "id": "e9a2174e",
   "metadata": {},
   "outputs": [
    {
     "data": {
      "text/plain": [
       "DecisionTreeRegressor(random_state=0)"
      ]
     },
     "execution_count": 78,
     "metadata": {},
     "output_type": "execute_result"
    }
   ],
   "source": [
    "from sklearn.tree import DecisionTreeRegressor\n",
    "regressor3 = DecisionTreeRegressor(random_state = 0)\n",
    "regressor3.fit(x_train, y_train)"
   ]
  },
  {
   "cell_type": "markdown",
   "id": "b09a0787",
   "metadata": {},
   "source": [
    "### Checking Mean Squared Error and Accuracy score"
   ]
  },
  {
   "cell_type": "code",
   "execution_count": 79,
   "id": "a48c63a7",
   "metadata": {},
   "outputs": [
    {
     "data": {
      "text/plain": [
       "87.53835170995197"
      ]
     },
     "execution_count": 79,
     "metadata": {},
     "output_type": "execute_result"
    }
   ],
   "source": [
    "y_pred = regressor2.predict(x_test)\n",
    "mean_squared_error(y_test,y_pred)"
   ]
  },
  {
   "cell_type": "code",
   "execution_count": 81,
   "id": "c6bbbeb5",
   "metadata": {},
   "outputs": [
    {
     "data": {
      "text/plain": [
       "0.6356395764127143"
      ]
     },
     "execution_count": 81,
     "metadata": {},
     "output_type": "execute_result"
    }
   ],
   "source": [
    "regressor3.score(x_test,y_test)"
   ]
  },
  {
   "cell_type": "markdown",
   "id": "ae174a8d",
   "metadata": {},
   "source": [
    "### Comparison of Accuracy score of all 3 models on test set"
   ]
  },
  {
   "cell_type": "markdown",
   "id": "daa18c82",
   "metadata": {},
   "source": [
    "- Support Vector Machine: -0.155%\n",
    "- Random Forest Model: 69.774%\n",
    "- Decision Tree Model: 63.563%"
   ]
  },
  {
   "cell_type": "code",
   "execution_count": null,
   "id": "bb63499f",
   "metadata": {},
   "outputs": [],
   "source": []
  }
 ],
 "metadata": {
  "kernelspec": {
   "display_name": "Python 3 (ipykernel)",
   "language": "python",
   "name": "python3"
  },
  "language_info": {
   "codemirror_mode": {
    "name": "ipython",
    "version": 3
   },
   "file_extension": ".py",
   "mimetype": "text/x-python",
   "name": "python",
   "nbconvert_exporter": "python",
   "pygments_lexer": "ipython3",
   "version": "3.9.7"
  }
 },
 "nbformat": 4,
 "nbformat_minor": 5
}
