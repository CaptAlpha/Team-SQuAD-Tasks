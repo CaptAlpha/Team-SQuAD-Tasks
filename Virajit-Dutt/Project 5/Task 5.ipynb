{
 "cells": [
  {
   "cell_type": "code",
   "execution_count": 1,
   "metadata": {
    "_cell_guid": "b1076dfc-b9ad-4769-8c92-a6c4dae69d19",
    "_uuid": "8f2839f25d086af736a60e9eeb907d3b93b6e0e5",
    "execution": {
     "iopub.execute_input": "2022-03-12T13:33:59.301214Z",
     "iopub.status.busy": "2022-03-12T13:33:59.300659Z",
     "iopub.status.idle": "2022-03-12T13:33:59.306786Z",
     "shell.execute_reply": "2022-03-12T13:33:59.306148Z",
     "shell.execute_reply.started": "2022-03-12T13:33:59.301171Z"
    }
   },
   "outputs": [],
   "source": [
    "import pandas as pd\n",
    "import numpy as np\n",
    "import matplotlib.pyplot as plt\n",
    "from sklearn.model_selection import train_test_split\n",
    "from sklearn.ensemble import RandomForestRegressor\n",
    "from sklearn.linear_model import LinearRegression\n",
    "from sklearn.preprocessing import LabelEncoder\n",
    "from sklearn.metrics import mean_squared_error"
   ]
  },
  {
   "cell_type": "code",
   "execution_count": 2,
   "metadata": {
    "execution": {
     "iopub.execute_input": "2022-03-12T13:12:17.490870Z",
     "iopub.status.busy": "2022-03-12T13:12:17.490662Z",
     "iopub.status.idle": "2022-03-12T13:12:18.365147Z",
     "shell.execute_reply": "2022-03-12T13:12:18.363907Z",
     "shell.execute_reply.started": "2022-03-12T13:12:17.490842Z"
    }
   },
   "outputs": [
    {
     "data": {
      "text/html": [
       "<div>\n",
       "<style scoped>\n",
       "    .dataframe tbody tr th:only-of-type {\n",
       "        vertical-align: middle;\n",
       "    }\n",
       "\n",
       "    .dataframe tbody tr th {\n",
       "        vertical-align: top;\n",
       "    }\n",
       "\n",
       "    .dataframe thead th {\n",
       "        text-align: right;\n",
       "    }\n",
       "</style>\n",
       "<table border=\"1\" class=\"dataframe\">\n",
       "  <thead>\n",
       "    <tr style=\"text-align: right;\">\n",
       "      <th></th>\n",
       "      <th>row_id</th>\n",
       "      <th>time</th>\n",
       "      <th>x</th>\n",
       "      <th>y</th>\n",
       "      <th>direction</th>\n",
       "      <th>congestion</th>\n",
       "    </tr>\n",
       "  </thead>\n",
       "  <tbody>\n",
       "    <tr>\n",
       "      <th>0</th>\n",
       "      <td>0</td>\n",
       "      <td>1991-04-01 00:00:00</td>\n",
       "      <td>0</td>\n",
       "      <td>0</td>\n",
       "      <td>EB</td>\n",
       "      <td>70</td>\n",
       "    </tr>\n",
       "    <tr>\n",
       "      <th>1</th>\n",
       "      <td>1</td>\n",
       "      <td>1991-04-01 00:00:00</td>\n",
       "      <td>0</td>\n",
       "      <td>0</td>\n",
       "      <td>NB</td>\n",
       "      <td>49</td>\n",
       "    </tr>\n",
       "    <tr>\n",
       "      <th>2</th>\n",
       "      <td>2</td>\n",
       "      <td>1991-04-01 00:00:00</td>\n",
       "      <td>0</td>\n",
       "      <td>0</td>\n",
       "      <td>SB</td>\n",
       "      <td>24</td>\n",
       "    </tr>\n",
       "    <tr>\n",
       "      <th>3</th>\n",
       "      <td>3</td>\n",
       "      <td>1991-04-01 00:00:00</td>\n",
       "      <td>0</td>\n",
       "      <td>1</td>\n",
       "      <td>EB</td>\n",
       "      <td>18</td>\n",
       "    </tr>\n",
       "    <tr>\n",
       "      <th>4</th>\n",
       "      <td>4</td>\n",
       "      <td>1991-04-01 00:00:00</td>\n",
       "      <td>0</td>\n",
       "      <td>1</td>\n",
       "      <td>NB</td>\n",
       "      <td>60</td>\n",
       "    </tr>\n",
       "  </tbody>\n",
       "</table>\n",
       "</div>"
      ],
      "text/plain": [
       "   row_id                 time  x  y direction  congestion\n",
       "0       0  1991-04-01 00:00:00  0  0        EB          70\n",
       "1       1  1991-04-01 00:00:00  0  0        NB          49\n",
       "2       2  1991-04-01 00:00:00  0  0        SB          24\n",
       "3       3  1991-04-01 00:00:00  0  1        EB          18\n",
       "4       4  1991-04-01 00:00:00  0  1        NB          60"
      ]
     },
     "execution_count": 2,
     "metadata": {},
     "output_type": "execute_result"
    }
   ],
   "source": [
    "df1 = pd.read_csv(\"train.csv\")\n",
    "df1.head()"
   ]
  },
  {
   "cell_type": "code",
   "execution_count": 3,
   "metadata": {
    "execution": {
     "iopub.execute_input": "2022-03-12T13:12:19.219791Z",
     "iopub.status.busy": "2022-03-12T13:12:19.219378Z",
     "iopub.status.idle": "2022-03-12T13:12:19.401543Z",
     "shell.execute_reply": "2022-03-12T13:12:19.400591Z",
     "shell.execute_reply.started": "2022-03-12T13:12:19.219749Z"
    }
   },
   "outputs": [
    {
     "data": {
      "text/plain": [
       "row_id        0\n",
       "time          0\n",
       "x             0\n",
       "y             0\n",
       "direction     0\n",
       "congestion    0\n",
       "dtype: int64"
      ]
     },
     "execution_count": 3,
     "metadata": {},
     "output_type": "execute_result"
    }
   ],
   "source": [
    "df1.isna().sum()"
   ]
  },
  {
   "cell_type": "code",
   "execution_count": 4,
   "metadata": {
    "execution": {
     "iopub.execute_input": "2022-03-12T13:12:19.930992Z",
     "iopub.status.busy": "2022-03-12T13:12:19.930679Z",
     "iopub.status.idle": "2022-03-12T13:12:19.941823Z",
     "shell.execute_reply": "2022-03-12T13:12:19.941069Z",
     "shell.execute_reply.started": "2022-03-12T13:12:19.930955Z"
    }
   },
   "outputs": [
    {
     "data": {
      "text/plain": [
       "'1991-05-03 16:40:00'"
      ]
     },
     "execution_count": 4,
     "metadata": {},
     "output_type": "execute_result"
    }
   ],
   "source": [
    "df1['time'][152500]"
   ]
  },
  {
   "cell_type": "code",
   "execution_count": 5,
   "metadata": {
    "execution": {
     "iopub.execute_input": "2022-03-12T13:12:20.338069Z",
     "iopub.status.busy": "2022-03-12T13:12:20.337123Z",
     "iopub.status.idle": "2022-03-12T13:12:48.424074Z",
     "shell.execute_reply": "2022-03-12T13:12:48.422748Z",
     "shell.execute_reply.started": "2022-03-12T13:12:20.338003Z"
    }
   },
   "outputs": [],
   "source": [
    "year = []\n",
    "month = []\n",
    "day = []\n",
    "hour = []\n",
    "minute = []\n",
    "second = []\n",
    "\n",
    "time = df1['time']\n",
    "\n",
    "for i in range(len(df1)):\n",
    "    year.append(int(time[i][0:4]))\n",
    "    month.append(int(time[i][5:7]))\n",
    "    day.append(int(time[i][8:10]))\n",
    "    hour.append(int(time[i][11:13]))\n",
    "    minute.append(int(time[i][14:16]))\n",
    "    second.append(int(time[i][17:]))"
   ]
  },
  {
   "cell_type": "code",
   "execution_count": 6,
   "metadata": {
    "execution": {
     "iopub.execute_input": "2022-03-12T13:12:48.426053Z",
     "iopub.status.busy": "2022-03-12T13:12:48.425760Z",
     "iopub.status.idle": "2022-03-12T13:12:50.721903Z",
     "shell.execute_reply": "2022-03-12T13:12:50.720966Z",
     "shell.execute_reply.started": "2022-03-12T13:12:48.426019Z"
    }
   },
   "outputs": [
    {
     "data": {
      "text/html": [
       "<div>\n",
       "<style scoped>\n",
       "    .dataframe tbody tr th:only-of-type {\n",
       "        vertical-align: middle;\n",
       "    }\n",
       "\n",
       "    .dataframe tbody tr th {\n",
       "        vertical-align: top;\n",
       "    }\n",
       "\n",
       "    .dataframe thead th {\n",
       "        text-align: right;\n",
       "    }\n",
       "</style>\n",
       "<table border=\"1\" class=\"dataframe\">\n",
       "  <thead>\n",
       "    <tr style=\"text-align: right;\">\n",
       "      <th></th>\n",
       "      <th>year</th>\n",
       "      <th>month</th>\n",
       "      <th>day</th>\n",
       "      <th>hour</th>\n",
       "      <th>minute</th>\n",
       "      <th>second</th>\n",
       "    </tr>\n",
       "  </thead>\n",
       "  <tbody>\n",
       "    <tr>\n",
       "      <th>0</th>\n",
       "      <td>1991</td>\n",
       "      <td>4</td>\n",
       "      <td>1</td>\n",
       "      <td>0</td>\n",
       "      <td>0</td>\n",
       "      <td>0</td>\n",
       "    </tr>\n",
       "    <tr>\n",
       "      <th>1</th>\n",
       "      <td>1991</td>\n",
       "      <td>4</td>\n",
       "      <td>1</td>\n",
       "      <td>0</td>\n",
       "      <td>0</td>\n",
       "      <td>0</td>\n",
       "    </tr>\n",
       "    <tr>\n",
       "      <th>2</th>\n",
       "      <td>1991</td>\n",
       "      <td>4</td>\n",
       "      <td>1</td>\n",
       "      <td>0</td>\n",
       "      <td>0</td>\n",
       "      <td>0</td>\n",
       "    </tr>\n",
       "    <tr>\n",
       "      <th>3</th>\n",
       "      <td>1991</td>\n",
       "      <td>4</td>\n",
       "      <td>1</td>\n",
       "      <td>0</td>\n",
       "      <td>0</td>\n",
       "      <td>0</td>\n",
       "    </tr>\n",
       "    <tr>\n",
       "      <th>4</th>\n",
       "      <td>1991</td>\n",
       "      <td>4</td>\n",
       "      <td>1</td>\n",
       "      <td>0</td>\n",
       "      <td>0</td>\n",
       "      <td>0</td>\n",
       "    </tr>\n",
       "  </tbody>\n",
       "</table>\n",
       "</div>"
      ],
      "text/plain": [
       "   year  month  day  hour  minute  second\n",
       "0  1991      4    1     0       0       0\n",
       "1  1991      4    1     0       0       0\n",
       "2  1991      4    1     0       0       0\n",
       "3  1991      4    1     0       0       0\n",
       "4  1991      4    1     0       0       0"
      ]
     },
     "execution_count": 6,
     "metadata": {},
     "output_type": "execute_result"
    }
   ],
   "source": [
    "df2 = pd.DataFrame({'year':year,'month':month,'day':day,'hour':hour,'minute':minute,'second':second})\n",
    "df2.head()"
   ]
  },
  {
   "cell_type": "code",
   "execution_count": 7,
   "metadata": {
    "execution": {
     "iopub.execute_input": "2022-03-12T13:12:50.725181Z",
     "iopub.status.busy": "2022-03-12T13:12:50.724869Z",
     "iopub.status.idle": "2022-03-12T13:12:50.827845Z",
     "shell.execute_reply": "2022-03-12T13:12:50.826513Z",
     "shell.execute_reply.started": "2022-03-12T13:12:50.725148Z"
    }
   },
   "outputs": [],
   "source": [
    "df2.drop(['year','second'],axis=1,inplace=True)"
   ]
  },
  {
   "cell_type": "code",
   "execution_count": 8,
   "metadata": {
    "execution": {
     "iopub.execute_input": "2022-03-12T13:12:50.829754Z",
     "iopub.status.busy": "2022-03-12T13:12:50.829568Z",
     "iopub.status.idle": "2022-03-12T13:12:50.849038Z",
     "shell.execute_reply": "2022-03-12T13:12:50.848183Z",
     "shell.execute_reply.started": "2022-03-12T13:12:50.829731Z"
    }
   },
   "outputs": [
    {
     "data": {
      "text/html": [
       "<div>\n",
       "<style scoped>\n",
       "    .dataframe tbody tr th:only-of-type {\n",
       "        vertical-align: middle;\n",
       "    }\n",
       "\n",
       "    .dataframe tbody tr th {\n",
       "        vertical-align: top;\n",
       "    }\n",
       "\n",
       "    .dataframe thead th {\n",
       "        text-align: right;\n",
       "    }\n",
       "</style>\n",
       "<table border=\"1\" class=\"dataframe\">\n",
       "  <thead>\n",
       "    <tr style=\"text-align: right;\">\n",
       "      <th></th>\n",
       "      <th>month</th>\n",
       "      <th>day</th>\n",
       "      <th>hour</th>\n",
       "      <th>minute</th>\n",
       "    </tr>\n",
       "  </thead>\n",
       "  <tbody>\n",
       "    <tr>\n",
       "      <th>0</th>\n",
       "      <td>4</td>\n",
       "      <td>1</td>\n",
       "      <td>0</td>\n",
       "      <td>0</td>\n",
       "    </tr>\n",
       "    <tr>\n",
       "      <th>1</th>\n",
       "      <td>4</td>\n",
       "      <td>1</td>\n",
       "      <td>0</td>\n",
       "      <td>0</td>\n",
       "    </tr>\n",
       "    <tr>\n",
       "      <th>2</th>\n",
       "      <td>4</td>\n",
       "      <td>1</td>\n",
       "      <td>0</td>\n",
       "      <td>0</td>\n",
       "    </tr>\n",
       "    <tr>\n",
       "      <th>3</th>\n",
       "      <td>4</td>\n",
       "      <td>1</td>\n",
       "      <td>0</td>\n",
       "      <td>0</td>\n",
       "    </tr>\n",
       "    <tr>\n",
       "      <th>4</th>\n",
       "      <td>4</td>\n",
       "      <td>1</td>\n",
       "      <td>0</td>\n",
       "      <td>0</td>\n",
       "    </tr>\n",
       "  </tbody>\n",
       "</table>\n",
       "</div>"
      ],
      "text/plain": [
       "   month  day  hour  minute\n",
       "0      4    1     0       0\n",
       "1      4    1     0       0\n",
       "2      4    1     0       0\n",
       "3      4    1     0       0\n",
       "4      4    1     0       0"
      ]
     },
     "execution_count": 8,
     "metadata": {},
     "output_type": "execute_result"
    }
   ],
   "source": [
    "df2.head()"
   ]
  },
  {
   "cell_type": "code",
   "execution_count": 9,
   "metadata": {
    "execution": {
     "iopub.execute_input": "2022-03-12T13:12:50.851853Z",
     "iopub.status.busy": "2022-03-12T13:12:50.850819Z",
     "iopub.status.idle": "2022-03-12T13:12:59.818385Z",
     "shell.execute_reply": "2022-03-12T13:12:59.817274Z",
     "shell.execute_reply.started": "2022-03-12T13:12:50.851824Z"
    }
   },
   "outputs": [],
   "source": [
    "j = 0\n",
    "dayss = [1,2,3,4,5,6,7]\n",
    "day_of_week = []\n",
    "day_tm = df2['day']\n",
    "\n",
    "temp = day_tm[0]\n",
    "day_of_week.append(dayss[j])\n",
    "\n",
    "for i in range(1,len(df1)):\n",
    "    if (j>=7):\n",
    "        j-=7\n",
    "        \n",
    "    if (temp==day_tm[i]):\n",
    "        day_of_week.append(dayss[j])\n",
    "    else:\n",
    "        j+=1\n",
    "        if (j>=7):\n",
    "            j-=7\n",
    "        \n",
    "        day_of_week.append(dayss[j])\n",
    "    \n",
    "    temp = day_tm[i]"
   ]
  },
  {
   "cell_type": "code",
   "execution_count": 10,
   "metadata": {
    "execution": {
     "iopub.execute_input": "2022-03-12T13:12:59.820390Z",
     "iopub.status.busy": "2022-03-12T13:12:59.819714Z",
     "iopub.status.idle": "2022-03-12T13:13:00.092743Z",
     "shell.execute_reply": "2022-03-12T13:13:00.091949Z",
     "shell.execute_reply.started": "2022-03-12T13:12:59.820348Z"
    }
   },
   "outputs": [],
   "source": [
    "df2['day_of_week'] = day_of_week"
   ]
  },
  {
   "cell_type": "code",
   "execution_count": 11,
   "metadata": {
    "execution": {
     "iopub.execute_input": "2022-03-12T13:13:00.094547Z",
     "iopub.status.busy": "2022-03-12T13:13:00.094273Z",
     "iopub.status.idle": "2022-03-12T13:13:00.135556Z",
     "shell.execute_reply": "2022-03-12T13:13:00.134854Z",
     "shell.execute_reply.started": "2022-03-12T13:13:00.094509Z"
    }
   },
   "outputs": [
    {
     "name": "stdout",
     "output_type": "stream",
     "text": [
      "<class 'pandas.core.frame.DataFrame'>\n",
      "RangeIndex: 848835 entries, 0 to 848834\n",
      "Data columns (total 5 columns):\n",
      " #   Column       Non-Null Count   Dtype\n",
      "---  ------       --------------   -----\n",
      " 0   month        848835 non-null  int64\n",
      " 1   day          848835 non-null  int64\n",
      " 2   hour         848835 non-null  int64\n",
      " 3   minute       848835 non-null  int64\n",
      " 4   day_of_week  848835 non-null  int64\n",
      "dtypes: int64(5)\n",
      "memory usage: 32.4 MB\n"
     ]
    }
   ],
   "source": [
    "df2.info()"
   ]
  },
  {
   "cell_type": "code",
   "execution_count": 12,
   "metadata": {
    "execution": {
     "iopub.execute_input": "2022-03-12T13:23:37.553374Z",
     "iopub.status.busy": "2022-03-12T13:23:37.553135Z",
     "iopub.status.idle": "2022-03-12T13:23:37.595705Z",
     "shell.execute_reply": "2022-03-12T13:23:37.595036Z",
     "shell.execute_reply.started": "2022-03-12T13:23:37.553350Z"
    }
   },
   "outputs": [
    {
     "data": {
      "text/html": [
       "<div>\n",
       "<style scoped>\n",
       "    .dataframe tbody tr th:only-of-type {\n",
       "        vertical-align: middle;\n",
       "    }\n",
       "\n",
       "    .dataframe tbody tr th {\n",
       "        vertical-align: top;\n",
       "    }\n",
       "\n",
       "    .dataframe thead th {\n",
       "        text-align: right;\n",
       "    }\n",
       "</style>\n",
       "<table border=\"1\" class=\"dataframe\">\n",
       "  <thead>\n",
       "    <tr style=\"text-align: right;\">\n",
       "      <th></th>\n",
       "      <th>row_id</th>\n",
       "      <th>time</th>\n",
       "      <th>x</th>\n",
       "      <th>y</th>\n",
       "      <th>direction</th>\n",
       "      <th>congestion</th>\n",
       "      <th>month</th>\n",
       "      <th>day</th>\n",
       "      <th>hour</th>\n",
       "      <th>minute</th>\n",
       "      <th>day_of_week</th>\n",
       "    </tr>\n",
       "  </thead>\n",
       "  <tbody>\n",
       "    <tr>\n",
       "      <th>0</th>\n",
       "      <td>0</td>\n",
       "      <td>1991-04-01 00:00:00</td>\n",
       "      <td>0</td>\n",
       "      <td>0</td>\n",
       "      <td>EB</td>\n",
       "      <td>70</td>\n",
       "      <td>4</td>\n",
       "      <td>1</td>\n",
       "      <td>0</td>\n",
       "      <td>0</td>\n",
       "      <td>1</td>\n",
       "    </tr>\n",
       "    <tr>\n",
       "      <th>1</th>\n",
       "      <td>1</td>\n",
       "      <td>1991-04-01 00:00:00</td>\n",
       "      <td>0</td>\n",
       "      <td>0</td>\n",
       "      <td>NB</td>\n",
       "      <td>49</td>\n",
       "      <td>4</td>\n",
       "      <td>1</td>\n",
       "      <td>0</td>\n",
       "      <td>0</td>\n",
       "      <td>1</td>\n",
       "    </tr>\n",
       "    <tr>\n",
       "      <th>2</th>\n",
       "      <td>2</td>\n",
       "      <td>1991-04-01 00:00:00</td>\n",
       "      <td>0</td>\n",
       "      <td>0</td>\n",
       "      <td>SB</td>\n",
       "      <td>24</td>\n",
       "      <td>4</td>\n",
       "      <td>1</td>\n",
       "      <td>0</td>\n",
       "      <td>0</td>\n",
       "      <td>1</td>\n",
       "    </tr>\n",
       "    <tr>\n",
       "      <th>3</th>\n",
       "      <td>3</td>\n",
       "      <td>1991-04-01 00:00:00</td>\n",
       "      <td>0</td>\n",
       "      <td>1</td>\n",
       "      <td>EB</td>\n",
       "      <td>18</td>\n",
       "      <td>4</td>\n",
       "      <td>1</td>\n",
       "      <td>0</td>\n",
       "      <td>0</td>\n",
       "      <td>1</td>\n",
       "    </tr>\n",
       "    <tr>\n",
       "      <th>4</th>\n",
       "      <td>4</td>\n",
       "      <td>1991-04-01 00:00:00</td>\n",
       "      <td>0</td>\n",
       "      <td>1</td>\n",
       "      <td>NB</td>\n",
       "      <td>60</td>\n",
       "      <td>4</td>\n",
       "      <td>1</td>\n",
       "      <td>0</td>\n",
       "      <td>0</td>\n",
       "      <td>1</td>\n",
       "    </tr>\n",
       "  </tbody>\n",
       "</table>\n",
       "</div>"
      ],
      "text/plain": [
       "   row_id                 time  x  y direction  congestion  month  day  hour  \\\n",
       "0       0  1991-04-01 00:00:00  0  0        EB          70      4    1     0   \n",
       "1       1  1991-04-01 00:00:00  0  0        NB          49      4    1     0   \n",
       "2       2  1991-04-01 00:00:00  0  0        SB          24      4    1     0   \n",
       "3       3  1991-04-01 00:00:00  0  1        EB          18      4    1     0   \n",
       "4       4  1991-04-01 00:00:00  0  1        NB          60      4    1     0   \n",
       "\n",
       "   minute  day_of_week  \n",
       "0       0            1  \n",
       "1       0            1  \n",
       "2       0            1  \n",
       "3       0            1  \n",
       "4       0            1  "
      ]
     },
     "execution_count": 12,
     "metadata": {},
     "output_type": "execute_result"
    }
   ],
   "source": [
    "df3 = pd.concat([df1,df2],axis=1)\n",
    "df3.head()"
   ]
  },
  {
   "cell_type": "code",
   "execution_count": 13,
   "metadata": {
    "execution": {
     "iopub.execute_input": "2022-03-12T13:23:39.046299Z",
     "iopub.status.busy": "2022-03-12T13:23:39.045972Z",
     "iopub.status.idle": "2022-03-12T13:23:39.228302Z",
     "shell.execute_reply": "2022-03-12T13:23:39.227255Z",
     "shell.execute_reply.started": "2022-03-12T13:23:39.046274Z"
    }
   },
   "outputs": [
    {
     "data": {
      "text/html": [
       "<div>\n",
       "<style scoped>\n",
       "    .dataframe tbody tr th:only-of-type {\n",
       "        vertical-align: middle;\n",
       "    }\n",
       "\n",
       "    .dataframe tbody tr th {\n",
       "        vertical-align: top;\n",
       "    }\n",
       "\n",
       "    .dataframe thead th {\n",
       "        text-align: right;\n",
       "    }\n",
       "</style>\n",
       "<table border=\"1\" class=\"dataframe\">\n",
       "  <thead>\n",
       "    <tr style=\"text-align: right;\">\n",
       "      <th></th>\n",
       "      <th>row_id</th>\n",
       "      <th>time</th>\n",
       "      <th>x</th>\n",
       "      <th>y</th>\n",
       "      <th>direction</th>\n",
       "      <th>congestion</th>\n",
       "      <th>month</th>\n",
       "      <th>day</th>\n",
       "      <th>hour</th>\n",
       "      <th>minute</th>\n",
       "      <th>day_of_week</th>\n",
       "      <th>Direction</th>\n",
       "    </tr>\n",
       "  </thead>\n",
       "  <tbody>\n",
       "    <tr>\n",
       "      <th>0</th>\n",
       "      <td>0</td>\n",
       "      <td>1991-04-01 00:00:00</td>\n",
       "      <td>0</td>\n",
       "      <td>0</td>\n",
       "      <td>EB</td>\n",
       "      <td>70</td>\n",
       "      <td>4</td>\n",
       "      <td>1</td>\n",
       "      <td>0</td>\n",
       "      <td>0</td>\n",
       "      <td>1</td>\n",
       "      <td>0</td>\n",
       "    </tr>\n",
       "    <tr>\n",
       "      <th>1</th>\n",
       "      <td>1</td>\n",
       "      <td>1991-04-01 00:00:00</td>\n",
       "      <td>0</td>\n",
       "      <td>0</td>\n",
       "      <td>NB</td>\n",
       "      <td>49</td>\n",
       "      <td>4</td>\n",
       "      <td>1</td>\n",
       "      <td>0</td>\n",
       "      <td>0</td>\n",
       "      <td>1</td>\n",
       "      <td>1</td>\n",
       "    </tr>\n",
       "    <tr>\n",
       "      <th>2</th>\n",
       "      <td>2</td>\n",
       "      <td>1991-04-01 00:00:00</td>\n",
       "      <td>0</td>\n",
       "      <td>0</td>\n",
       "      <td>SB</td>\n",
       "      <td>24</td>\n",
       "      <td>4</td>\n",
       "      <td>1</td>\n",
       "      <td>0</td>\n",
       "      <td>0</td>\n",
       "      <td>1</td>\n",
       "      <td>4</td>\n",
       "    </tr>\n",
       "    <tr>\n",
       "      <th>3</th>\n",
       "      <td>3</td>\n",
       "      <td>1991-04-01 00:00:00</td>\n",
       "      <td>0</td>\n",
       "      <td>1</td>\n",
       "      <td>EB</td>\n",
       "      <td>18</td>\n",
       "      <td>4</td>\n",
       "      <td>1</td>\n",
       "      <td>0</td>\n",
       "      <td>0</td>\n",
       "      <td>1</td>\n",
       "      <td>0</td>\n",
       "    </tr>\n",
       "    <tr>\n",
       "      <th>4</th>\n",
       "      <td>4</td>\n",
       "      <td>1991-04-01 00:00:00</td>\n",
       "      <td>0</td>\n",
       "      <td>1</td>\n",
       "      <td>NB</td>\n",
       "      <td>60</td>\n",
       "      <td>4</td>\n",
       "      <td>1</td>\n",
       "      <td>0</td>\n",
       "      <td>0</td>\n",
       "      <td>1</td>\n",
       "      <td>1</td>\n",
       "    </tr>\n",
       "  </tbody>\n",
       "</table>\n",
       "</div>"
      ],
      "text/plain": [
       "   row_id                 time  x  y direction  congestion  month  day  hour  \\\n",
       "0       0  1991-04-01 00:00:00  0  0        EB          70      4    1     0   \n",
       "1       1  1991-04-01 00:00:00  0  0        NB          49      4    1     0   \n",
       "2       2  1991-04-01 00:00:00  0  0        SB          24      4    1     0   \n",
       "3       3  1991-04-01 00:00:00  0  1        EB          18      4    1     0   \n",
       "4       4  1991-04-01 00:00:00  0  1        NB          60      4    1     0   \n",
       "\n",
       "   minute  day_of_week  Direction  \n",
       "0       0            1          0  \n",
       "1       0            1          1  \n",
       "2       0            1          4  \n",
       "3       0            1          0  \n",
       "4       0            1          1  "
      ]
     },
     "execution_count": 13,
     "metadata": {},
     "output_type": "execute_result"
    }
   ],
   "source": [
    "le = LabelEncoder()\n",
    "\n",
    "df3['Direction'] = le.fit_transform(df3['direction'])\n",
    "df3.head()"
   ]
  },
  {
   "cell_type": "code",
   "execution_count": 14,
   "metadata": {
    "execution": {
     "iopub.execute_input": "2022-03-12T13:23:42.394953Z",
     "iopub.status.busy": "2022-03-12T13:23:42.394542Z",
     "iopub.status.idle": "2022-03-12T13:23:42.478928Z",
     "shell.execute_reply": "2022-03-12T13:23:42.477972Z",
     "shell.execute_reply.started": "2022-03-12T13:23:42.394916Z"
    }
   },
   "outputs": [
    {
     "data": {
      "text/html": [
       "<div>\n",
       "<style scoped>\n",
       "    .dataframe tbody tr th:only-of-type {\n",
       "        vertical-align: middle;\n",
       "    }\n",
       "\n",
       "    .dataframe tbody tr th {\n",
       "        vertical-align: top;\n",
       "    }\n",
       "\n",
       "    .dataframe thead th {\n",
       "        text-align: right;\n",
       "    }\n",
       "</style>\n",
       "<table border=\"1\" class=\"dataframe\">\n",
       "  <thead>\n",
       "    <tr style=\"text-align: right;\">\n",
       "      <th></th>\n",
       "      <th>x</th>\n",
       "      <th>y</th>\n",
       "      <th>congestion</th>\n",
       "      <th>month</th>\n",
       "      <th>day</th>\n",
       "      <th>hour</th>\n",
       "      <th>minute</th>\n",
       "      <th>day_of_week</th>\n",
       "      <th>Direction</th>\n",
       "    </tr>\n",
       "  </thead>\n",
       "  <tbody>\n",
       "    <tr>\n",
       "      <th>0</th>\n",
       "      <td>0</td>\n",
       "      <td>0</td>\n",
       "      <td>70</td>\n",
       "      <td>4</td>\n",
       "      <td>1</td>\n",
       "      <td>0</td>\n",
       "      <td>0</td>\n",
       "      <td>1</td>\n",
       "      <td>0</td>\n",
       "    </tr>\n",
       "    <tr>\n",
       "      <th>1</th>\n",
       "      <td>0</td>\n",
       "      <td>0</td>\n",
       "      <td>49</td>\n",
       "      <td>4</td>\n",
       "      <td>1</td>\n",
       "      <td>0</td>\n",
       "      <td>0</td>\n",
       "      <td>1</td>\n",
       "      <td>1</td>\n",
       "    </tr>\n",
       "    <tr>\n",
       "      <th>2</th>\n",
       "      <td>0</td>\n",
       "      <td>0</td>\n",
       "      <td>24</td>\n",
       "      <td>4</td>\n",
       "      <td>1</td>\n",
       "      <td>0</td>\n",
       "      <td>0</td>\n",
       "      <td>1</td>\n",
       "      <td>4</td>\n",
       "    </tr>\n",
       "    <tr>\n",
       "      <th>3</th>\n",
       "      <td>0</td>\n",
       "      <td>1</td>\n",
       "      <td>18</td>\n",
       "      <td>4</td>\n",
       "      <td>1</td>\n",
       "      <td>0</td>\n",
       "      <td>0</td>\n",
       "      <td>1</td>\n",
       "      <td>0</td>\n",
       "    </tr>\n",
       "    <tr>\n",
       "      <th>4</th>\n",
       "      <td>0</td>\n",
       "      <td>1</td>\n",
       "      <td>60</td>\n",
       "      <td>4</td>\n",
       "      <td>1</td>\n",
       "      <td>0</td>\n",
       "      <td>0</td>\n",
       "      <td>1</td>\n",
       "      <td>1</td>\n",
       "    </tr>\n",
       "  </tbody>\n",
       "</table>\n",
       "</div>"
      ],
      "text/plain": [
       "   x  y  congestion  month  day  hour  minute  day_of_week  Direction\n",
       "0  0  0          70      4    1     0       0            1          0\n",
       "1  0  0          49      4    1     0       0            1          1\n",
       "2  0  0          24      4    1     0       0            1          4\n",
       "3  0  1          18      4    1     0       0            1          0\n",
       "4  0  1          60      4    1     0       0            1          1"
      ]
     },
     "execution_count": 14,
     "metadata": {},
     "output_type": "execute_result"
    }
   ],
   "source": [
    "df3.drop(['direction','row_id','time'],axis=1,inplace=True)\n",
    "df3.head()"
   ]
  },
  {
   "cell_type": "code",
   "execution_count": 15,
   "metadata": {
    "execution": {
     "iopub.execute_input": "2022-03-12T13:23:44.781462Z",
     "iopub.status.busy": "2022-03-12T13:23:44.781186Z",
     "iopub.status.idle": "2022-03-12T13:23:44.940541Z",
     "shell.execute_reply": "2022-03-12T13:23:44.939265Z",
     "shell.execute_reply.started": "2022-03-12T13:23:44.781430Z"
    }
   },
   "outputs": [],
   "source": [
    "df3['congestion'] = df3['congestion']/max(df3['congestion'])"
   ]
  },
  {
   "cell_type": "code",
   "execution_count": 16,
   "metadata": {
    "execution": {
     "iopub.execute_input": "2022-03-12T13:23:45.867669Z",
     "iopub.status.busy": "2022-03-12T13:23:45.866955Z",
     "iopub.status.idle": "2022-03-12T13:23:45.885678Z",
     "shell.execute_reply": "2022-03-12T13:23:45.884738Z",
     "shell.execute_reply.started": "2022-03-12T13:23:45.867630Z"
    }
   },
   "outputs": [],
   "source": [
    "X = df3.drop(['congestion'],axis=1)\n",
    "y = df3['congestion']"
   ]
  },
  {
   "cell_type": "code",
   "execution_count": 17,
   "metadata": {
    "execution": {
     "iopub.execute_input": "2022-03-12T13:23:46.819342Z",
     "iopub.status.busy": "2022-03-12T13:23:46.819081Z",
     "iopub.status.idle": "2022-03-12T13:23:46.828468Z",
     "shell.execute_reply": "2022-03-12T13:23:46.827471Z",
     "shell.execute_reply.started": "2022-03-12T13:23:46.819313Z"
    }
   },
   "outputs": [
    {
     "data": {
      "text/plain": [
       "0    0.70\n",
       "1    0.49\n",
       "2    0.24\n",
       "3    0.18\n",
       "4    0.60\n",
       "Name: congestion, dtype: float64"
      ]
     },
     "execution_count": 17,
     "metadata": {},
     "output_type": "execute_result"
    }
   ],
   "source": [
    "y.head()"
   ]
  },
  {
   "cell_type": "code",
   "execution_count": 18,
   "metadata": {
    "execution": {
     "iopub.execute_input": "2022-03-12T13:23:47.888658Z",
     "iopub.status.busy": "2022-03-12T13:23:47.888419Z",
     "iopub.status.idle": "2022-03-12T13:23:48.054033Z",
     "shell.execute_reply": "2022-03-12T13:23:48.052644Z",
     "shell.execute_reply.started": "2022-03-12T13:23:47.888631Z"
    }
   },
   "outputs": [],
   "source": [
    "X_train, X_test, y_train, y_test = train_test_split(X,y,test_size=0.2,random_state=42)"
   ]
  },
  {
   "cell_type": "code",
   "execution_count": 23,
   "metadata": {
    "execution": {
     "iopub.execute_input": "2022-03-12T13:32:50.496198Z",
     "iopub.status.busy": "2022-03-12T13:32:50.495877Z",
     "iopub.status.idle": "2022-03-12T13:33:12.052671Z",
     "shell.execute_reply": "2022-03-12T13:33:12.051799Z",
     "shell.execute_reply.started": "2022-03-12T13:32:50.496166Z"
    }
   },
   "outputs": [
    {
     "data": {
      "text/plain": [
       "RandomForestRegressor(n_estimators=10, random_state=100)"
      ]
     },
     "execution_count": 23,
     "metadata": {},
     "output_type": "execute_result"
    }
   ],
   "source": [
    "lin_reg = LinearRegression()\n",
    "rforest = RandomForestRegressor(n_estimators= 10, random_state=100)\n",
    "\n",
    "lin_reg.fit(X_train,y_train)\n",
    "rforest.fit(X_train,y_train)"
   ]
  },
  {
   "cell_type": "code",
   "execution_count": 24,
   "metadata": {
    "execution": {
     "iopub.execute_input": "2022-03-12T13:33:20.365970Z",
     "iopub.status.busy": "2022-03-12T13:33:20.365513Z",
     "iopub.status.idle": "2022-03-12T13:33:21.551457Z",
     "shell.execute_reply": "2022-03-12T13:33:21.550311Z",
     "shell.execute_reply.started": "2022-03-12T13:33:20.365939Z"
    }
   },
   "outputs": [
    {
     "name": "stdout",
     "output_type": "stream",
     "text": [
      "Linear Regression Score is:  0.03774559267337585\n",
      "Random Forest Regression Score is:  0.7280420159593666\n"
     ]
    }
   ],
   "source": [
    "print(\"Linear Regression Score is: \",lin_reg.score(X_test,y_test))\n",
    "print(\"Random Forest Regression Score is: \",rforest.score(X_test,y_test))"
   ]
  },
  {
   "cell_type": "code",
   "execution_count": 25,
   "metadata": {
    "execution": {
     "iopub.execute_input": "2022-03-12T13:35:59.207030Z",
     "iopub.status.busy": "2022-03-12T13:35:59.206584Z",
     "iopub.status.idle": "2022-03-12T13:36:00.651068Z",
     "shell.execute_reply": "2022-03-12T13:36:00.650313Z",
     "shell.execute_reply.started": "2022-03-12T13:35:59.206992Z"
    }
   },
   "outputs": [
    {
     "name": "stdout",
     "output_type": "stream",
     "text": [
      "MSE for Linear Regression:  0.027088553679574214\n",
      "MSE for Random Forest Regression:  0.007655925910218124\n"
     ]
    }
   ],
   "source": [
    "lpred = lin_reg.predict(X_test)\n",
    "rpred = rforest.predict(X_test)\n",
    "\n",
    "print(\"MSE for Linear Regression: \",mean_squared_error(y_test,lpred))\n",
    "print(\"MSE for Random Forest Regression: \",mean_squared_error(y_test,rpred))"
   ]
  }
 ],
 "metadata": {
  "kernelspec": {
   "display_name": "Python 3",
   "language": "python",
   "name": "python3"
  },
  "language_info": {
   "codemirror_mode": {
    "name": "ipython",
    "version": 3
   },
   "file_extension": ".py",
   "mimetype": "text/x-python",
   "name": "python",
   "nbconvert_exporter": "python",
   "pygments_lexer": "ipython3",
   "version": "3.8.8"
  }
 },
 "nbformat": 4,
 "nbformat_minor": 4
}
