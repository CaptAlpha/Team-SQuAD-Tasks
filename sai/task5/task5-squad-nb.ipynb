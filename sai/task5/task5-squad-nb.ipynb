{
 "cells": [
  {
   "cell_type": "code",
   "execution_count": 91,
   "metadata": {
    "execution": {
     "iopub.execute_input": "2022-03-15T19:48:26.092987Z",
     "iopub.status.busy": "2022-03-15T19:48:26.091977Z",
     "iopub.status.idle": "2022-03-15T19:48:26.125464Z",
     "shell.execute_reply": "2022-03-15T19:48:26.124351Z",
     "shell.execute_reply.started": "2022-03-15T19:48:26.092834Z"
    }
   },
   "outputs": [],
   "source": [
    "import pandas as pd \n",
    "import numpy as np \n",
    "from sklearn.metrics import mean_squared_error\n",
    "#import sys\n",
    "#np.set_printoptions(threshold=sys.maxsize)"
   ]
  },
  {
   "cell_type": "code",
   "execution_count": 53,
   "metadata": {
    "execution": {
     "iopub.execute_input": "2022-03-15T19:48:26.528643Z",
     "iopub.status.busy": "2022-03-15T19:48:26.527898Z",
     "iopub.status.idle": "2022-03-15T19:48:27.443779Z",
     "shell.execute_reply": "2022-03-15T19:48:27.442476Z",
     "shell.execute_reply.started": "2022-03-15T19:48:26.528595Z"
    }
   },
   "outputs": [],
   "source": [
    "df = pd.read_csv(\"train.csv\")"
   ]
  },
  {
   "cell_type": "code",
   "execution_count": 54,
   "metadata": {
    "execution": {
     "iopub.execute_input": "2022-03-15T19:48:27.445672Z",
     "iopub.status.busy": "2022-03-15T19:48:27.445383Z",
     "iopub.status.idle": "2022-03-15T19:48:27.469717Z",
     "shell.execute_reply": "2022-03-15T19:48:27.469076Z",
     "shell.execute_reply.started": "2022-03-15T19:48:27.445637Z"
    }
   },
   "outputs": [
    {
     "data": {
      "text/html": [
       "<div>\n",
       "<style scoped>\n",
       "    .dataframe tbody tr th:only-of-type {\n",
       "        vertical-align: middle;\n",
       "    }\n",
       "\n",
       "    .dataframe tbody tr th {\n",
       "        vertical-align: top;\n",
       "    }\n",
       "\n",
       "    .dataframe thead th {\n",
       "        text-align: right;\n",
       "    }\n",
       "</style>\n",
       "<table border=\"1\" class=\"dataframe\">\n",
       "  <thead>\n",
       "    <tr style=\"text-align: right;\">\n",
       "      <th></th>\n",
       "      <th>row_id</th>\n",
       "      <th>time</th>\n",
       "      <th>x</th>\n",
       "      <th>y</th>\n",
       "      <th>direction</th>\n",
       "      <th>congestion</th>\n",
       "    </tr>\n",
       "  </thead>\n",
       "  <tbody>\n",
       "    <tr>\n",
       "      <th>0</th>\n",
       "      <td>0</td>\n",
       "      <td>1991-04-01 00:00:00</td>\n",
       "      <td>0</td>\n",
       "      <td>0</td>\n",
       "      <td>EB</td>\n",
       "      <td>70</td>\n",
       "    </tr>\n",
       "    <tr>\n",
       "      <th>1</th>\n",
       "      <td>1</td>\n",
       "      <td>1991-04-01 00:00:00</td>\n",
       "      <td>0</td>\n",
       "      <td>0</td>\n",
       "      <td>NB</td>\n",
       "      <td>49</td>\n",
       "    </tr>\n",
       "    <tr>\n",
       "      <th>2</th>\n",
       "      <td>2</td>\n",
       "      <td>1991-04-01 00:00:00</td>\n",
       "      <td>0</td>\n",
       "      <td>0</td>\n",
       "      <td>SB</td>\n",
       "      <td>24</td>\n",
       "    </tr>\n",
       "    <tr>\n",
       "      <th>3</th>\n",
       "      <td>3</td>\n",
       "      <td>1991-04-01 00:00:00</td>\n",
       "      <td>0</td>\n",
       "      <td>1</td>\n",
       "      <td>EB</td>\n",
       "      <td>18</td>\n",
       "    </tr>\n",
       "    <tr>\n",
       "      <th>4</th>\n",
       "      <td>4</td>\n",
       "      <td>1991-04-01 00:00:00</td>\n",
       "      <td>0</td>\n",
       "      <td>1</td>\n",
       "      <td>NB</td>\n",
       "      <td>60</td>\n",
       "    </tr>\n",
       "  </tbody>\n",
       "</table>\n",
       "</div>"
      ],
      "text/plain": [
       "   row_id                 time  x  y direction  congestion\n",
       "0       0  1991-04-01 00:00:00  0  0        EB          70\n",
       "1       1  1991-04-01 00:00:00  0  0        NB          49\n",
       "2       2  1991-04-01 00:00:00  0  0        SB          24\n",
       "3       3  1991-04-01 00:00:00  0  1        EB          18\n",
       "4       4  1991-04-01 00:00:00  0  1        NB          60"
      ]
     },
     "execution_count": 54,
     "metadata": {},
     "output_type": "execute_result"
    }
   ],
   "source": [
    "df.head()"
   ]
  },
  {
   "cell_type": "code",
   "execution_count": 55,
   "metadata": {
    "execution": {
     "iopub.execute_input": "2022-03-15T19:48:27.488410Z",
     "iopub.status.busy": "2022-03-15T19:48:27.487259Z",
     "iopub.status.idle": "2022-03-15T19:48:27.565209Z",
     "shell.execute_reply": "2022-03-15T19:48:27.564232Z",
     "shell.execute_reply.started": "2022-03-15T19:48:27.488323Z"
    }
   },
   "outputs": [
    {
     "data": {
      "text/plain": [
       "array(['EB', 'NB', 'SB', 'WB', 'NE', 'SW', 'NW', 'SE'], dtype=object)"
      ]
     },
     "execution_count": 55,
     "metadata": {},
     "output_type": "execute_result"
    }
   ],
   "source": [
    "df.direction.unique()"
   ]
  },
  {
   "cell_type": "code",
   "execution_count": 56,
   "metadata": {
    "execution": {
     "iopub.execute_input": "2022-03-15T19:48:27.969277Z",
     "iopub.status.busy": "2022-03-15T19:48:27.968722Z",
     "iopub.status.idle": "2022-03-15T19:48:27.973074Z",
     "shell.execute_reply": "2022-03-15T19:48:27.972112Z",
     "shell.execute_reply.started": "2022-03-15T19:48:27.969238Z"
    }
   },
   "outputs": [],
   "source": [
    "#onehotencode direction"
   ]
  },
  {
   "cell_type": "code",
   "execution_count": 57,
   "metadata": {
    "execution": {
     "iopub.execute_input": "2022-03-15T19:48:28.458416Z",
     "iopub.status.busy": "2022-03-15T19:48:28.457828Z",
     "iopub.status.idle": "2022-03-15T19:48:28.656900Z",
     "shell.execute_reply": "2022-03-15T19:48:28.655983Z",
     "shell.execute_reply.started": "2022-03-15T19:48:28.458353Z"
    }
   },
   "outputs": [
    {
     "data": {
      "text/plain": [
       "row_id        0\n",
       "time          0\n",
       "x             0\n",
       "y             0\n",
       "direction     0\n",
       "congestion    0\n",
       "dtype: int64"
      ]
     },
     "execution_count": 57,
     "metadata": {},
     "output_type": "execute_result"
    }
   ],
   "source": [
    "df.isnull().sum()"
   ]
  },
  {
   "cell_type": "code",
   "execution_count": 58,
   "metadata": {
    "execution": {
     "iopub.execute_input": "2022-03-15T19:48:28.913282Z",
     "iopub.status.busy": "2022-03-15T19:48:28.912860Z",
     "iopub.status.idle": "2022-03-15T19:48:28.965346Z",
     "shell.execute_reply": "2022-03-15T19:48:28.964391Z",
     "shell.execute_reply.started": "2022-03-15T19:48:28.913238Z"
    }
   },
   "outputs": [
    {
     "data": {
      "text/html": [
       "<div>\n",
       "<style scoped>\n",
       "    .dataframe tbody tr th:only-of-type {\n",
       "        vertical-align: middle;\n",
       "    }\n",
       "\n",
       "    .dataframe tbody tr th {\n",
       "        vertical-align: top;\n",
       "    }\n",
       "\n",
       "    .dataframe thead th {\n",
       "        text-align: right;\n",
       "    }\n",
       "</style>\n",
       "<table border=\"1\" class=\"dataframe\">\n",
       "  <thead>\n",
       "    <tr style=\"text-align: right;\">\n",
       "      <th></th>\n",
       "      <th>row_id</th>\n",
       "      <th>time</th>\n",
       "      <th>x</th>\n",
       "      <th>y</th>\n",
       "      <th>direction</th>\n",
       "    </tr>\n",
       "  </thead>\n",
       "  <tbody>\n",
       "    <tr>\n",
       "      <th>0</th>\n",
       "      <td>0</td>\n",
       "      <td>1991-04-01 00:00:00</td>\n",
       "      <td>0</td>\n",
       "      <td>0</td>\n",
       "      <td>EB</td>\n",
       "    </tr>\n",
       "    <tr>\n",
       "      <th>1</th>\n",
       "      <td>1</td>\n",
       "      <td>1991-04-01 00:00:00</td>\n",
       "      <td>0</td>\n",
       "      <td>0</td>\n",
       "      <td>NB</td>\n",
       "    </tr>\n",
       "    <tr>\n",
       "      <th>2</th>\n",
       "      <td>2</td>\n",
       "      <td>1991-04-01 00:00:00</td>\n",
       "      <td>0</td>\n",
       "      <td>0</td>\n",
       "      <td>SB</td>\n",
       "    </tr>\n",
       "    <tr>\n",
       "      <th>3</th>\n",
       "      <td>3</td>\n",
       "      <td>1991-04-01 00:00:00</td>\n",
       "      <td>0</td>\n",
       "      <td>1</td>\n",
       "      <td>EB</td>\n",
       "    </tr>\n",
       "    <tr>\n",
       "      <th>4</th>\n",
       "      <td>4</td>\n",
       "      <td>1991-04-01 00:00:00</td>\n",
       "      <td>0</td>\n",
       "      <td>1</td>\n",
       "      <td>NB</td>\n",
       "    </tr>\n",
       "    <tr>\n",
       "      <th>...</th>\n",
       "      <td>...</td>\n",
       "      <td>...</td>\n",
       "      <td>...</td>\n",
       "      <td>...</td>\n",
       "      <td>...</td>\n",
       "    </tr>\n",
       "    <tr>\n",
       "      <th>848830</th>\n",
       "      <td>848830</td>\n",
       "      <td>1991-09-30 11:40:00</td>\n",
       "      <td>2</td>\n",
       "      <td>3</td>\n",
       "      <td>NB</td>\n",
       "    </tr>\n",
       "    <tr>\n",
       "      <th>848831</th>\n",
       "      <td>848831</td>\n",
       "      <td>1991-09-30 11:40:00</td>\n",
       "      <td>2</td>\n",
       "      <td>3</td>\n",
       "      <td>NE</td>\n",
       "    </tr>\n",
       "    <tr>\n",
       "      <th>848832</th>\n",
       "      <td>848832</td>\n",
       "      <td>1991-09-30 11:40:00</td>\n",
       "      <td>2</td>\n",
       "      <td>3</td>\n",
       "      <td>SB</td>\n",
       "    </tr>\n",
       "    <tr>\n",
       "      <th>848833</th>\n",
       "      <td>848833</td>\n",
       "      <td>1991-09-30 11:40:00</td>\n",
       "      <td>2</td>\n",
       "      <td>3</td>\n",
       "      <td>SW</td>\n",
       "    </tr>\n",
       "    <tr>\n",
       "      <th>848834</th>\n",
       "      <td>848834</td>\n",
       "      <td>1991-09-30 11:40:00</td>\n",
       "      <td>2</td>\n",
       "      <td>3</td>\n",
       "      <td>WB</td>\n",
       "    </tr>\n",
       "  </tbody>\n",
       "</table>\n",
       "<p>848835 rows × 5 columns</p>\n",
       "</div>"
      ],
      "text/plain": [
       "        row_id                 time  x  y direction\n",
       "0            0  1991-04-01 00:00:00  0  0        EB\n",
       "1            1  1991-04-01 00:00:00  0  0        NB\n",
       "2            2  1991-04-01 00:00:00  0  0        SB\n",
       "3            3  1991-04-01 00:00:00  0  1        EB\n",
       "4            4  1991-04-01 00:00:00  0  1        NB\n",
       "...        ...                  ... .. ..       ...\n",
       "848830  848830  1991-09-30 11:40:00  2  3        NB\n",
       "848831  848831  1991-09-30 11:40:00  2  3        NE\n",
       "848832  848832  1991-09-30 11:40:00  2  3        SB\n",
       "848833  848833  1991-09-30 11:40:00  2  3        SW\n",
       "848834  848834  1991-09-30 11:40:00  2  3        WB\n",
       "\n",
       "[848835 rows x 5 columns]"
      ]
     },
     "execution_count": 58,
     "metadata": {},
     "output_type": "execute_result"
    }
   ],
   "source": [
    "y = df[\"congestion\"]\n",
    "df.drop(\"congestion\", axis = 1)"
   ]
  },
  {
   "cell_type": "code",
   "execution_count": 59,
   "metadata": {
    "execution": {
     "iopub.execute_input": "2022-03-15T19:48:29.366977Z",
     "iopub.status.busy": "2022-03-15T19:48:29.366012Z",
     "iopub.status.idle": "2022-03-15T19:48:29.372155Z",
     "shell.execute_reply": "2022-03-15T19:48:29.371531Z",
     "shell.execute_reply.started": "2022-03-15T19:48:29.366922Z"
    }
   },
   "outputs": [
    {
     "data": {
      "text/plain": [
       "848835"
      ]
     },
     "execution_count": 59,
     "metadata": {},
     "output_type": "execute_result"
    }
   ],
   "source": [
    "len(df)"
   ]
  },
  {
   "cell_type": "code",
   "execution_count": 60,
   "metadata": {
    "execution": {
     "iopub.execute_input": "2022-03-15T19:48:29.856353Z",
     "iopub.status.busy": "2022-03-15T19:48:29.855303Z",
     "iopub.status.idle": "2022-03-15T19:48:54.811481Z",
     "shell.execute_reply": "2022-03-15T19:48:54.810399Z",
     "shell.execute_reply.started": "2022-03-15T19:48:29.856293Z"
    }
   },
   "outputs": [],
   "source": [
    "yr = []\n",
    "mont = []\n",
    "date = []\n",
    "hr= []\n",
    "minute = []\n",
    "sec = []\n",
    "time = df[\"time\"]\n",
    "for i in range(len(df)):\n",
    "    yr.append(int(time[i][0:4]))\n",
    "    mont.append(int(time[i][5:7]))\n",
    "    date.append(int(time[i][8:10]))\n",
    "    hr.append(int(time[i][11:13]))\n",
    "    minute.append(int(time[i][14:16]))\n",
    "    sec.append(int(time[i][17:]))"
   ]
  },
  {
   "cell_type": "code",
   "execution_count": 61,
   "metadata": {
    "execution": {
     "iopub.execute_input": "2022-03-15T19:48:54.814383Z",
     "iopub.status.busy": "2022-03-15T19:48:54.813650Z",
     "iopub.status.idle": "2022-03-15T19:48:56.879850Z",
     "shell.execute_reply": "2022-03-15T19:48:56.878517Z",
     "shell.execute_reply.started": "2022-03-15T19:48:54.814325Z"
    }
   },
   "outputs": [],
   "source": [
    "df[\"yr\"] = yr\n",
    "df[\"month\"] = mont\n",
    "df[\"date\"] = date\n",
    "df[\"hr\"] = hr\n",
    "df[\"minute\"] = minute\n",
    "df[\"sec\"] = sec"
   ]
  },
  {
   "cell_type": "code",
   "execution_count": 62,
   "metadata": {
    "execution": {
     "iopub.execute_input": "2022-03-15T19:48:56.881714Z",
     "iopub.status.busy": "2022-03-15T19:48:56.881422Z",
     "iopub.status.idle": "2022-03-15T19:48:56.898084Z",
     "shell.execute_reply": "2022-03-15T19:48:56.897003Z",
     "shell.execute_reply.started": "2022-03-15T19:48:56.881677Z"
    }
   },
   "outputs": [
    {
     "data": {
      "text/html": [
       "<div>\n",
       "<style scoped>\n",
       "    .dataframe tbody tr th:only-of-type {\n",
       "        vertical-align: middle;\n",
       "    }\n",
       "\n",
       "    .dataframe tbody tr th {\n",
       "        vertical-align: top;\n",
       "    }\n",
       "\n",
       "    .dataframe thead th {\n",
       "        text-align: right;\n",
       "    }\n",
       "</style>\n",
       "<table border=\"1\" class=\"dataframe\">\n",
       "  <thead>\n",
       "    <tr style=\"text-align: right;\">\n",
       "      <th></th>\n",
       "      <th>row_id</th>\n",
       "      <th>time</th>\n",
       "      <th>x</th>\n",
       "      <th>y</th>\n",
       "      <th>direction</th>\n",
       "      <th>congestion</th>\n",
       "      <th>yr</th>\n",
       "      <th>month</th>\n",
       "      <th>date</th>\n",
       "      <th>hr</th>\n",
       "      <th>minute</th>\n",
       "      <th>sec</th>\n",
       "    </tr>\n",
       "  </thead>\n",
       "  <tbody>\n",
       "    <tr>\n",
       "      <th>0</th>\n",
       "      <td>0</td>\n",
       "      <td>1991-04-01 00:00:00</td>\n",
       "      <td>0</td>\n",
       "      <td>0</td>\n",
       "      <td>EB</td>\n",
       "      <td>70</td>\n",
       "      <td>1991</td>\n",
       "      <td>4</td>\n",
       "      <td>1</td>\n",
       "      <td>0</td>\n",
       "      <td>0</td>\n",
       "      <td>0</td>\n",
       "    </tr>\n",
       "    <tr>\n",
       "      <th>1</th>\n",
       "      <td>1</td>\n",
       "      <td>1991-04-01 00:00:00</td>\n",
       "      <td>0</td>\n",
       "      <td>0</td>\n",
       "      <td>NB</td>\n",
       "      <td>49</td>\n",
       "      <td>1991</td>\n",
       "      <td>4</td>\n",
       "      <td>1</td>\n",
       "      <td>0</td>\n",
       "      <td>0</td>\n",
       "      <td>0</td>\n",
       "    </tr>\n",
       "    <tr>\n",
       "      <th>2</th>\n",
       "      <td>2</td>\n",
       "      <td>1991-04-01 00:00:00</td>\n",
       "      <td>0</td>\n",
       "      <td>0</td>\n",
       "      <td>SB</td>\n",
       "      <td>24</td>\n",
       "      <td>1991</td>\n",
       "      <td>4</td>\n",
       "      <td>1</td>\n",
       "      <td>0</td>\n",
       "      <td>0</td>\n",
       "      <td>0</td>\n",
       "    </tr>\n",
       "    <tr>\n",
       "      <th>3</th>\n",
       "      <td>3</td>\n",
       "      <td>1991-04-01 00:00:00</td>\n",
       "      <td>0</td>\n",
       "      <td>1</td>\n",
       "      <td>EB</td>\n",
       "      <td>18</td>\n",
       "      <td>1991</td>\n",
       "      <td>4</td>\n",
       "      <td>1</td>\n",
       "      <td>0</td>\n",
       "      <td>0</td>\n",
       "      <td>0</td>\n",
       "    </tr>\n",
       "    <tr>\n",
       "      <th>4</th>\n",
       "      <td>4</td>\n",
       "      <td>1991-04-01 00:00:00</td>\n",
       "      <td>0</td>\n",
       "      <td>1</td>\n",
       "      <td>NB</td>\n",
       "      <td>60</td>\n",
       "      <td>1991</td>\n",
       "      <td>4</td>\n",
       "      <td>1</td>\n",
       "      <td>0</td>\n",
       "      <td>0</td>\n",
       "      <td>0</td>\n",
       "    </tr>\n",
       "  </tbody>\n",
       "</table>\n",
       "</div>"
      ],
      "text/plain": [
       "   row_id                 time  x  y direction  congestion    yr  month  date  \\\n",
       "0       0  1991-04-01 00:00:00  0  0        EB          70  1991      4     1   \n",
       "1       1  1991-04-01 00:00:00  0  0        NB          49  1991      4     1   \n",
       "2       2  1991-04-01 00:00:00  0  0        SB          24  1991      4     1   \n",
       "3       3  1991-04-01 00:00:00  0  1        EB          18  1991      4     1   \n",
       "4       4  1991-04-01 00:00:00  0  1        NB          60  1991      4     1   \n",
       "\n",
       "   hr  minute  sec  \n",
       "0   0       0    0  \n",
       "1   0       0    0  \n",
       "2   0       0    0  \n",
       "3   0       0    0  \n",
       "4   0       0    0  "
      ]
     },
     "execution_count": 62,
     "metadata": {},
     "output_type": "execute_result"
    }
   ],
   "source": [
    "df.head()"
   ]
  },
  {
   "cell_type": "code",
   "execution_count": 63,
   "metadata": {
    "execution": {
     "iopub.execute_input": "2022-03-15T19:48:56.900710Z",
     "iopub.status.busy": "2022-03-15T19:48:56.900453Z",
     "iopub.status.idle": "2022-03-15T19:48:57.087186Z",
     "shell.execute_reply": "2022-03-15T19:48:57.086087Z",
     "shell.execute_reply.started": "2022-03-15T19:48:56.900679Z"
    }
   },
   "outputs": [],
   "source": [
    "df = df.drop(\"time\", axis = 1)\n",
    "df = df.drop(\"congestion\",axis =1)"
   ]
  },
  {
   "cell_type": "code",
   "execution_count": 64,
   "metadata": {
    "execution": {
     "iopub.execute_input": "2022-03-15T19:48:57.097020Z",
     "iopub.status.busy": "2022-03-15T19:48:57.096116Z",
     "iopub.status.idle": "2022-03-15T19:48:57.159507Z",
     "shell.execute_reply": "2022-03-15T19:48:57.158624Z",
     "shell.execute_reply.started": "2022-03-15T19:48:57.096960Z"
    }
   },
   "outputs": [
    {
     "data": {
      "text/html": [
       "<div>\n",
       "<style scoped>\n",
       "    .dataframe tbody tr th:only-of-type {\n",
       "        vertical-align: middle;\n",
       "    }\n",
       "\n",
       "    .dataframe tbody tr th {\n",
       "        vertical-align: top;\n",
       "    }\n",
       "\n",
       "    .dataframe thead th {\n",
       "        text-align: right;\n",
       "    }\n",
       "</style>\n",
       "<table border=\"1\" class=\"dataframe\">\n",
       "  <thead>\n",
       "    <tr style=\"text-align: right;\">\n",
       "      <th></th>\n",
       "      <th>row_id</th>\n",
       "      <th>x</th>\n",
       "      <th>y</th>\n",
       "      <th>direction</th>\n",
       "      <th>yr</th>\n",
       "      <th>month</th>\n",
       "      <th>date</th>\n",
       "      <th>hr</th>\n",
       "      <th>minute</th>\n",
       "      <th>sec</th>\n",
       "    </tr>\n",
       "  </thead>\n",
       "  <tbody>\n",
       "    <tr>\n",
       "      <th>0</th>\n",
       "      <td>0</td>\n",
       "      <td>0</td>\n",
       "      <td>0</td>\n",
       "      <td>EB</td>\n",
       "      <td>1991</td>\n",
       "      <td>4</td>\n",
       "      <td>1</td>\n",
       "      <td>0</td>\n",
       "      <td>0</td>\n",
       "      <td>0</td>\n",
       "    </tr>\n",
       "    <tr>\n",
       "      <th>1</th>\n",
       "      <td>1</td>\n",
       "      <td>0</td>\n",
       "      <td>0</td>\n",
       "      <td>NB</td>\n",
       "      <td>1991</td>\n",
       "      <td>4</td>\n",
       "      <td>1</td>\n",
       "      <td>0</td>\n",
       "      <td>0</td>\n",
       "      <td>0</td>\n",
       "    </tr>\n",
       "    <tr>\n",
       "      <th>2</th>\n",
       "      <td>2</td>\n",
       "      <td>0</td>\n",
       "      <td>0</td>\n",
       "      <td>SB</td>\n",
       "      <td>1991</td>\n",
       "      <td>4</td>\n",
       "      <td>1</td>\n",
       "      <td>0</td>\n",
       "      <td>0</td>\n",
       "      <td>0</td>\n",
       "    </tr>\n",
       "    <tr>\n",
       "      <th>3</th>\n",
       "      <td>3</td>\n",
       "      <td>0</td>\n",
       "      <td>1</td>\n",
       "      <td>EB</td>\n",
       "      <td>1991</td>\n",
       "      <td>4</td>\n",
       "      <td>1</td>\n",
       "      <td>0</td>\n",
       "      <td>0</td>\n",
       "      <td>0</td>\n",
       "    </tr>\n",
       "    <tr>\n",
       "      <th>4</th>\n",
       "      <td>4</td>\n",
       "      <td>0</td>\n",
       "      <td>1</td>\n",
       "      <td>NB</td>\n",
       "      <td>1991</td>\n",
       "      <td>4</td>\n",
       "      <td>1</td>\n",
       "      <td>0</td>\n",
       "      <td>0</td>\n",
       "      <td>0</td>\n",
       "    </tr>\n",
       "    <tr>\n",
       "      <th>...</th>\n",
       "      <td>...</td>\n",
       "      <td>...</td>\n",
       "      <td>...</td>\n",
       "      <td>...</td>\n",
       "      <td>...</td>\n",
       "      <td>...</td>\n",
       "      <td>...</td>\n",
       "      <td>...</td>\n",
       "      <td>...</td>\n",
       "      <td>...</td>\n",
       "    </tr>\n",
       "    <tr>\n",
       "      <th>848830</th>\n",
       "      <td>848830</td>\n",
       "      <td>2</td>\n",
       "      <td>3</td>\n",
       "      <td>NB</td>\n",
       "      <td>1991</td>\n",
       "      <td>9</td>\n",
       "      <td>30</td>\n",
       "      <td>11</td>\n",
       "      <td>40</td>\n",
       "      <td>0</td>\n",
       "    </tr>\n",
       "    <tr>\n",
       "      <th>848831</th>\n",
       "      <td>848831</td>\n",
       "      <td>2</td>\n",
       "      <td>3</td>\n",
       "      <td>NE</td>\n",
       "      <td>1991</td>\n",
       "      <td>9</td>\n",
       "      <td>30</td>\n",
       "      <td>11</td>\n",
       "      <td>40</td>\n",
       "      <td>0</td>\n",
       "    </tr>\n",
       "    <tr>\n",
       "      <th>848832</th>\n",
       "      <td>848832</td>\n",
       "      <td>2</td>\n",
       "      <td>3</td>\n",
       "      <td>SB</td>\n",
       "      <td>1991</td>\n",
       "      <td>9</td>\n",
       "      <td>30</td>\n",
       "      <td>11</td>\n",
       "      <td>40</td>\n",
       "      <td>0</td>\n",
       "    </tr>\n",
       "    <tr>\n",
       "      <th>848833</th>\n",
       "      <td>848833</td>\n",
       "      <td>2</td>\n",
       "      <td>3</td>\n",
       "      <td>SW</td>\n",
       "      <td>1991</td>\n",
       "      <td>9</td>\n",
       "      <td>30</td>\n",
       "      <td>11</td>\n",
       "      <td>40</td>\n",
       "      <td>0</td>\n",
       "    </tr>\n",
       "    <tr>\n",
       "      <th>848834</th>\n",
       "      <td>848834</td>\n",
       "      <td>2</td>\n",
       "      <td>3</td>\n",
       "      <td>WB</td>\n",
       "      <td>1991</td>\n",
       "      <td>9</td>\n",
       "      <td>30</td>\n",
       "      <td>11</td>\n",
       "      <td>40</td>\n",
       "      <td>0</td>\n",
       "    </tr>\n",
       "  </tbody>\n",
       "</table>\n",
       "<p>848835 rows × 10 columns</p>\n",
       "</div>"
      ],
      "text/plain": [
       "        row_id  x  y direction    yr  month  date  hr  minute  sec\n",
       "0            0  0  0        EB  1991      4     1   0       0    0\n",
       "1            1  0  0        NB  1991      4     1   0       0    0\n",
       "2            2  0  0        SB  1991      4     1   0       0    0\n",
       "3            3  0  1        EB  1991      4     1   0       0    0\n",
       "4            4  0  1        NB  1991      4     1   0       0    0\n",
       "...        ... .. ..       ...   ...    ...   ...  ..     ...  ...\n",
       "848830  848830  2  3        NB  1991      9    30  11      40    0\n",
       "848831  848831  2  3        NE  1991      9    30  11      40    0\n",
       "848832  848832  2  3        SB  1991      9    30  11      40    0\n",
       "848833  848833  2  3        SW  1991      9    30  11      40    0\n",
       "848834  848834  2  3        WB  1991      9    30  11      40    0\n",
       "\n",
       "[848835 rows x 10 columns]"
      ]
     },
     "execution_count": 64,
     "metadata": {},
     "output_type": "execute_result"
    }
   ],
   "source": [
    "df"
   ]
  },
  {
   "cell_type": "code",
   "execution_count": 65,
   "metadata": {
    "execution": {
     "iopub.execute_input": "2022-03-15T20:23:19.567981Z",
     "iopub.status.busy": "2022-03-15T20:23:19.566807Z",
     "iopub.status.idle": "2022-03-15T20:23:19.685790Z",
     "shell.execute_reply": "2022-03-15T20:23:19.684496Z",
     "shell.execute_reply.started": "2022-03-15T20:23:19.567913Z"
    }
   },
   "outputs": [],
   "source": [
    "df[\"coordinate_feature\"] = df[\"x\"]*df[\"y\"]\n",
    "df[\"feature2\"] = df[\"yr\"]*df[\"month\"]/17919\n",
    "df[\"feature3\"] = df[\"month\"]*df[\"date\"]/270\n",
    "df[\"feature4\"] = df[\"hr\"]*df[\"minute\"]/440\n",
    "df[\"feature5\"] = df[\"sec\"]*df[\"minute\"]\n",
    "df[\"feature6\"] = df[\"sec\"]*df[\"yr\"]\n",
    "df[\"feature7\"] = df[\"yr\"]*df[\"month\"]*df[\"date\"]/537570\n",
    "df[\"feature8\"] = df[\"coordinate_feature\"] *df[\"month\"]*df[\"date\"]/1620\n",
    "df[\"feature9\"] = df[\"coordinate_feature\"] *df[\"minute\"]/240\n",
    "df[\"featur10\"] = df[\"coordinate_feature\"] *df[\"hr\"]*df[\"minute\"]/2640\n",
    "df[\"feature11\"] = df[\"coordinate_feature\"] *df[\"hr\"]/66"
   ]
  },
  {
   "cell_type": "code",
   "execution_count": 66,
   "metadata": {
    "execution": {
     "iopub.execute_input": "2022-03-15T20:23:20.224695Z",
     "iopub.status.busy": "2022-03-15T20:23:20.223916Z",
     "iopub.status.idle": "2022-03-15T20:23:20.639907Z",
     "shell.execute_reply": "2022-03-15T20:23:20.639070Z",
     "shell.execute_reply.started": "2022-03-15T20:23:20.224634Z"
    }
   },
   "outputs": [
    {
     "data": {
      "text/html": [
       "<div>\n",
       "<style scoped>\n",
       "    .dataframe tbody tr th:only-of-type {\n",
       "        vertical-align: middle;\n",
       "    }\n",
       "\n",
       "    .dataframe tbody tr th {\n",
       "        vertical-align: top;\n",
       "    }\n",
       "\n",
       "    .dataframe thead th {\n",
       "        text-align: right;\n",
       "    }\n",
       "</style>\n",
       "<table border=\"1\" class=\"dataframe\">\n",
       "  <thead>\n",
       "    <tr style=\"text-align: right;\">\n",
       "      <th></th>\n",
       "      <th>row_id</th>\n",
       "      <th>x</th>\n",
       "      <th>y</th>\n",
       "      <th>direction</th>\n",
       "      <th>yr</th>\n",
       "      <th>month</th>\n",
       "      <th>date</th>\n",
       "      <th>hr</th>\n",
       "      <th>minute</th>\n",
       "      <th>sec</th>\n",
       "      <th>...</th>\n",
       "      <th>feature2</th>\n",
       "      <th>feature3</th>\n",
       "      <th>feature4</th>\n",
       "      <th>feature5</th>\n",
       "      <th>feature6</th>\n",
       "      <th>feature7</th>\n",
       "      <th>feature8</th>\n",
       "      <th>feature9</th>\n",
       "      <th>featur10</th>\n",
       "      <th>feature11</th>\n",
       "    </tr>\n",
       "  </thead>\n",
       "  <tbody>\n",
       "    <tr>\n",
       "      <th>0</th>\n",
       "      <td>0</td>\n",
       "      <td>0</td>\n",
       "      <td>0</td>\n",
       "      <td>EB</td>\n",
       "      <td>1991</td>\n",
       "      <td>4</td>\n",
       "      <td>1</td>\n",
       "      <td>0</td>\n",
       "      <td>0</td>\n",
       "      <td>0</td>\n",
       "      <td>...</td>\n",
       "      <td>0.444444</td>\n",
       "      <td>0.014815</td>\n",
       "      <td>0.0</td>\n",
       "      <td>0</td>\n",
       "      <td>0</td>\n",
       "      <td>0.014815</td>\n",
       "      <td>0.0</td>\n",
       "      <td>0.0</td>\n",
       "      <td>0.0</td>\n",
       "      <td>0.0</td>\n",
       "    </tr>\n",
       "    <tr>\n",
       "      <th>1</th>\n",
       "      <td>1</td>\n",
       "      <td>0</td>\n",
       "      <td>0</td>\n",
       "      <td>NB</td>\n",
       "      <td>1991</td>\n",
       "      <td>4</td>\n",
       "      <td>1</td>\n",
       "      <td>0</td>\n",
       "      <td>0</td>\n",
       "      <td>0</td>\n",
       "      <td>...</td>\n",
       "      <td>0.444444</td>\n",
       "      <td>0.014815</td>\n",
       "      <td>0.0</td>\n",
       "      <td>0</td>\n",
       "      <td>0</td>\n",
       "      <td>0.014815</td>\n",
       "      <td>0.0</td>\n",
       "      <td>0.0</td>\n",
       "      <td>0.0</td>\n",
       "      <td>0.0</td>\n",
       "    </tr>\n",
       "    <tr>\n",
       "      <th>2</th>\n",
       "      <td>2</td>\n",
       "      <td>0</td>\n",
       "      <td>0</td>\n",
       "      <td>SB</td>\n",
       "      <td>1991</td>\n",
       "      <td>4</td>\n",
       "      <td>1</td>\n",
       "      <td>0</td>\n",
       "      <td>0</td>\n",
       "      <td>0</td>\n",
       "      <td>...</td>\n",
       "      <td>0.444444</td>\n",
       "      <td>0.014815</td>\n",
       "      <td>0.0</td>\n",
       "      <td>0</td>\n",
       "      <td>0</td>\n",
       "      <td>0.014815</td>\n",
       "      <td>0.0</td>\n",
       "      <td>0.0</td>\n",
       "      <td>0.0</td>\n",
       "      <td>0.0</td>\n",
       "    </tr>\n",
       "    <tr>\n",
       "      <th>3</th>\n",
       "      <td>3</td>\n",
       "      <td>0</td>\n",
       "      <td>1</td>\n",
       "      <td>EB</td>\n",
       "      <td>1991</td>\n",
       "      <td>4</td>\n",
       "      <td>1</td>\n",
       "      <td>0</td>\n",
       "      <td>0</td>\n",
       "      <td>0</td>\n",
       "      <td>...</td>\n",
       "      <td>0.444444</td>\n",
       "      <td>0.014815</td>\n",
       "      <td>0.0</td>\n",
       "      <td>0</td>\n",
       "      <td>0</td>\n",
       "      <td>0.014815</td>\n",
       "      <td>0.0</td>\n",
       "      <td>0.0</td>\n",
       "      <td>0.0</td>\n",
       "      <td>0.0</td>\n",
       "    </tr>\n",
       "    <tr>\n",
       "      <th>4</th>\n",
       "      <td>4</td>\n",
       "      <td>0</td>\n",
       "      <td>1</td>\n",
       "      <td>NB</td>\n",
       "      <td>1991</td>\n",
       "      <td>4</td>\n",
       "      <td>1</td>\n",
       "      <td>0</td>\n",
       "      <td>0</td>\n",
       "      <td>0</td>\n",
       "      <td>...</td>\n",
       "      <td>0.444444</td>\n",
       "      <td>0.014815</td>\n",
       "      <td>0.0</td>\n",
       "      <td>0</td>\n",
       "      <td>0</td>\n",
       "      <td>0.014815</td>\n",
       "      <td>0.0</td>\n",
       "      <td>0.0</td>\n",
       "      <td>0.0</td>\n",
       "      <td>0.0</td>\n",
       "    </tr>\n",
       "    <tr>\n",
       "      <th>...</th>\n",
       "      <td>...</td>\n",
       "      <td>...</td>\n",
       "      <td>...</td>\n",
       "      <td>...</td>\n",
       "      <td>...</td>\n",
       "      <td>...</td>\n",
       "      <td>...</td>\n",
       "      <td>...</td>\n",
       "      <td>...</td>\n",
       "      <td>...</td>\n",
       "      <td>...</td>\n",
       "      <td>...</td>\n",
       "      <td>...</td>\n",
       "      <td>...</td>\n",
       "      <td>...</td>\n",
       "      <td>...</td>\n",
       "      <td>...</td>\n",
       "      <td>...</td>\n",
       "      <td>...</td>\n",
       "      <td>...</td>\n",
       "      <td>...</td>\n",
       "    </tr>\n",
       "    <tr>\n",
       "      <th>848830</th>\n",
       "      <td>848830</td>\n",
       "      <td>2</td>\n",
       "      <td>3</td>\n",
       "      <td>NB</td>\n",
       "      <td>1991</td>\n",
       "      <td>9</td>\n",
       "      <td>30</td>\n",
       "      <td>11</td>\n",
       "      <td>40</td>\n",
       "      <td>0</td>\n",
       "      <td>...</td>\n",
       "      <td>1.000000</td>\n",
       "      <td>1.000000</td>\n",
       "      <td>1.0</td>\n",
       "      <td>0</td>\n",
       "      <td>0</td>\n",
       "      <td>1.000000</td>\n",
       "      <td>1.0</td>\n",
       "      <td>1.0</td>\n",
       "      <td>1.0</td>\n",
       "      <td>1.0</td>\n",
       "    </tr>\n",
       "    <tr>\n",
       "      <th>848831</th>\n",
       "      <td>848831</td>\n",
       "      <td>2</td>\n",
       "      <td>3</td>\n",
       "      <td>NE</td>\n",
       "      <td>1991</td>\n",
       "      <td>9</td>\n",
       "      <td>30</td>\n",
       "      <td>11</td>\n",
       "      <td>40</td>\n",
       "      <td>0</td>\n",
       "      <td>...</td>\n",
       "      <td>1.000000</td>\n",
       "      <td>1.000000</td>\n",
       "      <td>1.0</td>\n",
       "      <td>0</td>\n",
       "      <td>0</td>\n",
       "      <td>1.000000</td>\n",
       "      <td>1.0</td>\n",
       "      <td>1.0</td>\n",
       "      <td>1.0</td>\n",
       "      <td>1.0</td>\n",
       "    </tr>\n",
       "    <tr>\n",
       "      <th>848832</th>\n",
       "      <td>848832</td>\n",
       "      <td>2</td>\n",
       "      <td>3</td>\n",
       "      <td>SB</td>\n",
       "      <td>1991</td>\n",
       "      <td>9</td>\n",
       "      <td>30</td>\n",
       "      <td>11</td>\n",
       "      <td>40</td>\n",
       "      <td>0</td>\n",
       "      <td>...</td>\n",
       "      <td>1.000000</td>\n",
       "      <td>1.000000</td>\n",
       "      <td>1.0</td>\n",
       "      <td>0</td>\n",
       "      <td>0</td>\n",
       "      <td>1.000000</td>\n",
       "      <td>1.0</td>\n",
       "      <td>1.0</td>\n",
       "      <td>1.0</td>\n",
       "      <td>1.0</td>\n",
       "    </tr>\n",
       "    <tr>\n",
       "      <th>848833</th>\n",
       "      <td>848833</td>\n",
       "      <td>2</td>\n",
       "      <td>3</td>\n",
       "      <td>SW</td>\n",
       "      <td>1991</td>\n",
       "      <td>9</td>\n",
       "      <td>30</td>\n",
       "      <td>11</td>\n",
       "      <td>40</td>\n",
       "      <td>0</td>\n",
       "      <td>...</td>\n",
       "      <td>1.000000</td>\n",
       "      <td>1.000000</td>\n",
       "      <td>1.0</td>\n",
       "      <td>0</td>\n",
       "      <td>0</td>\n",
       "      <td>1.000000</td>\n",
       "      <td>1.0</td>\n",
       "      <td>1.0</td>\n",
       "      <td>1.0</td>\n",
       "      <td>1.0</td>\n",
       "    </tr>\n",
       "    <tr>\n",
       "      <th>848834</th>\n",
       "      <td>848834</td>\n",
       "      <td>2</td>\n",
       "      <td>3</td>\n",
       "      <td>WB</td>\n",
       "      <td>1991</td>\n",
       "      <td>9</td>\n",
       "      <td>30</td>\n",
       "      <td>11</td>\n",
       "      <td>40</td>\n",
       "      <td>0</td>\n",
       "      <td>...</td>\n",
       "      <td>1.000000</td>\n",
       "      <td>1.000000</td>\n",
       "      <td>1.0</td>\n",
       "      <td>0</td>\n",
       "      <td>0</td>\n",
       "      <td>1.000000</td>\n",
       "      <td>1.0</td>\n",
       "      <td>1.0</td>\n",
       "      <td>1.0</td>\n",
       "      <td>1.0</td>\n",
       "    </tr>\n",
       "  </tbody>\n",
       "</table>\n",
       "<p>848835 rows × 21 columns</p>\n",
       "</div>"
      ],
      "text/plain": [
       "        row_id  x  y direction    yr  month  date  hr  minute  sec  ...  \\\n",
       "0            0  0  0        EB  1991      4     1   0       0    0  ...   \n",
       "1            1  0  0        NB  1991      4     1   0       0    0  ...   \n",
       "2            2  0  0        SB  1991      4     1   0       0    0  ...   \n",
       "3            3  0  1        EB  1991      4     1   0       0    0  ...   \n",
       "4            4  0  1        NB  1991      4     1   0       0    0  ...   \n",
       "...        ... .. ..       ...   ...    ...   ...  ..     ...  ...  ...   \n",
       "848830  848830  2  3        NB  1991      9    30  11      40    0  ...   \n",
       "848831  848831  2  3        NE  1991      9    30  11      40    0  ...   \n",
       "848832  848832  2  3        SB  1991      9    30  11      40    0  ...   \n",
       "848833  848833  2  3        SW  1991      9    30  11      40    0  ...   \n",
       "848834  848834  2  3        WB  1991      9    30  11      40    0  ...   \n",
       "\n",
       "        feature2  feature3  feature4  feature5  feature6  feature7  feature8  \\\n",
       "0       0.444444  0.014815       0.0         0         0  0.014815       0.0   \n",
       "1       0.444444  0.014815       0.0         0         0  0.014815       0.0   \n",
       "2       0.444444  0.014815       0.0         0         0  0.014815       0.0   \n",
       "3       0.444444  0.014815       0.0         0         0  0.014815       0.0   \n",
       "4       0.444444  0.014815       0.0         0         0  0.014815       0.0   \n",
       "...          ...       ...       ...       ...       ...       ...       ...   \n",
       "848830  1.000000  1.000000       1.0         0         0  1.000000       1.0   \n",
       "848831  1.000000  1.000000       1.0         0         0  1.000000       1.0   \n",
       "848832  1.000000  1.000000       1.0         0         0  1.000000       1.0   \n",
       "848833  1.000000  1.000000       1.0         0         0  1.000000       1.0   \n",
       "848834  1.000000  1.000000       1.0         0         0  1.000000       1.0   \n",
       "\n",
       "        feature9  featur10  feature11  \n",
       "0            0.0       0.0        0.0  \n",
       "1            0.0       0.0        0.0  \n",
       "2            0.0       0.0        0.0  \n",
       "3            0.0       0.0        0.0  \n",
       "4            0.0       0.0        0.0  \n",
       "...          ...       ...        ...  \n",
       "848830       1.0       1.0        1.0  \n",
       "848831       1.0       1.0        1.0  \n",
       "848832       1.0       1.0        1.0  \n",
       "848833       1.0       1.0        1.0  \n",
       "848834       1.0       1.0        1.0  \n",
       "\n",
       "[848835 rows x 21 columns]"
      ]
     },
     "execution_count": 66,
     "metadata": {},
     "output_type": "execute_result"
    }
   ],
   "source": [
    "df"
   ]
  },
  {
   "cell_type": "code",
   "execution_count": 67,
   "metadata": {
    "execution": {
     "iopub.execute_input": "2022-03-15T20:24:12.433172Z",
     "iopub.status.busy": "2022-03-15T20:24:12.432815Z",
     "iopub.status.idle": "2022-03-15T20:24:12.437895Z",
     "shell.execute_reply": "2022-03-15T20:24:12.436524Z",
     "shell.execute_reply.started": "2022-03-15T20:24:12.433113Z"
    }
   },
   "outputs": [],
   "source": [
    "X = df"
   ]
  },
  {
   "cell_type": "code",
   "execution_count": 68,
   "metadata": {
    "execution": {
     "iopub.execute_input": "2022-03-15T20:24:13.821107Z",
     "iopub.status.busy": "2022-03-15T20:24:13.820780Z",
     "iopub.status.idle": "2022-03-15T20:24:14.883288Z",
     "shell.execute_reply": "2022-03-15T20:24:14.882220Z",
     "shell.execute_reply.started": "2022-03-15T20:24:13.821070Z"
    }
   },
   "outputs": [],
   "source": [
    "from sklearn.compose import ColumnTransformer\n",
    "from sklearn.preprocessing import OneHotEncoder\n",
    "ct = ColumnTransformer(transformers=[('encoder', OneHotEncoder(), [3])], remainder='passthrough')\n",
    "X = np.array(ct.fit_transform(X))"
   ]
  },
  {
   "cell_type": "code",
   "execution_count": 69,
   "metadata": {
    "execution": {
     "iopub.execute_input": "2022-03-15T20:24:16.491104Z",
     "iopub.status.busy": "2022-03-15T20:24:16.490777Z",
     "iopub.status.idle": "2022-03-15T20:24:16.499146Z",
     "shell.execute_reply": "2022-03-15T20:24:16.498050Z",
     "shell.execute_reply.started": "2022-03-15T20:24:16.491071Z"
    }
   },
   "outputs": [
    {
     "data": {
      "text/plain": [
       "array([1.00000000e+00, 0.00000000e+00, 0.00000000e+00, 0.00000000e+00,\n",
       "       0.00000000e+00, 0.00000000e+00, 0.00000000e+00, 0.00000000e+00,\n",
       "       0.00000000e+00, 0.00000000e+00, 0.00000000e+00, 1.99100000e+03,\n",
       "       4.00000000e+00, 1.00000000e+00, 0.00000000e+00, 0.00000000e+00,\n",
       "       0.00000000e+00, 0.00000000e+00, 4.44444444e-01, 1.48148148e-02,\n",
       "       0.00000000e+00, 0.00000000e+00, 0.00000000e+00, 1.48148148e-02,\n",
       "       0.00000000e+00, 0.00000000e+00, 0.00000000e+00, 0.00000000e+00])"
      ]
     },
     "execution_count": 69,
     "metadata": {},
     "output_type": "execute_result"
    }
   ],
   "source": [
    "X[0]"
   ]
  },
  {
   "cell_type": "code",
   "execution_count": 70,
   "metadata": {
    "execution": {
     "iopub.execute_input": "2022-03-15T20:24:18.944776Z",
     "iopub.status.busy": "2022-03-15T20:24:18.944384Z",
     "iopub.status.idle": "2022-03-15T20:24:18.955284Z",
     "shell.execute_reply": "2022-03-15T20:24:18.954136Z",
     "shell.execute_reply.started": "2022-03-15T20:24:18.944732Z"
    }
   },
   "outputs": [
    {
     "data": {
      "text/plain": [
       "0         70\n",
       "1         49\n",
       "2         24\n",
       "3         18\n",
       "4         60\n",
       "          ..\n",
       "848830    54\n",
       "848831    28\n",
       "848832    68\n",
       "848833    17\n",
       "848834    24\n",
       "Name: congestion, Length: 848835, dtype: int64"
      ]
     },
     "execution_count": 70,
     "metadata": {},
     "output_type": "execute_result"
    }
   ],
   "source": [
    "y"
   ]
  },
  {
   "cell_type": "code",
   "execution_count": 71,
   "metadata": {
    "execution": {
     "iopub.execute_input": "2022-03-15T20:24:19.369044Z",
     "iopub.status.busy": "2022-03-15T20:24:19.368676Z",
     "iopub.status.idle": "2022-03-15T20:24:19.665635Z",
     "shell.execute_reply": "2022-03-15T20:24:19.664249Z",
     "shell.execute_reply.started": "2022-03-15T20:24:19.369005Z"
    }
   },
   "outputs": [],
   "source": [
    "from sklearn.model_selection import train_test_split\n",
    "X_train, X_test, y_train, y_test = train_test_split(X, y, test_size = 0.2, random_state = 1)"
   ]
  },
  {
   "cell_type": "code",
   "execution_count": 72,
   "metadata": {
    "execution": {
     "iopub.execute_input": "2022-03-15T20:24:21.642640Z",
     "iopub.status.busy": "2022-03-15T20:24:21.642254Z",
     "iopub.status.idle": "2022-03-15T20:24:21.652362Z",
     "shell.execute_reply": "2022-03-15T20:24:21.651345Z",
     "shell.execute_reply.started": "2022-03-15T20:24:21.642591Z"
    }
   },
   "outputs": [
    {
     "data": {
      "text/plain": [
       "array([1.00000000e+00, 0.00000000e+00, 0.00000000e+00, 0.00000000e+00,\n",
       "       0.00000000e+00, 0.00000000e+00, 0.00000000e+00, 0.00000000e+00,\n",
       "       5.85202000e+05, 0.00000000e+00, 2.00000000e+00, 1.99100000e+03,\n",
       "       8.00000000e+00, 4.00000000e+00, 8.00000000e+00, 4.00000000e+01,\n",
       "       0.00000000e+00, 0.00000000e+00, 8.88888889e-01, 1.18518519e-01,\n",
       "       7.27272727e-01, 0.00000000e+00, 0.00000000e+00, 1.18518519e-01,\n",
       "       0.00000000e+00, 0.00000000e+00, 0.00000000e+00, 0.00000000e+00])"
      ]
     },
     "execution_count": 72,
     "metadata": {},
     "output_type": "execute_result"
    }
   ],
   "source": [
    "X_train[0]"
   ]
  },
  {
   "cell_type": "markdown",
   "metadata": {},
   "source": [
    "# Using linear Regression"
   ]
  },
  {
   "cell_type": "code",
   "execution_count": 73,
   "metadata": {
    "execution": {
     "iopub.execute_input": "2022-03-15T20:24:23.103732Z",
     "iopub.status.busy": "2022-03-15T20:24:23.103357Z",
     "iopub.status.idle": "2022-03-15T20:24:24.249674Z",
     "shell.execute_reply": "2022-03-15T20:24:24.248468Z",
     "shell.execute_reply.started": "2022-03-15T20:24:23.103690Z"
    }
   },
   "outputs": [
    {
     "data": {
      "text/plain": [
       "LinearRegression()"
      ]
     },
     "execution_count": 73,
     "metadata": {},
     "output_type": "execute_result"
    }
   ],
   "source": [
    "from sklearn.linear_model import LinearRegression\n",
    "regressor = LinearRegression()\n",
    "regressor.fit(X_train, y_train)"
   ]
  },
  {
   "cell_type": "code",
   "execution_count": 74,
   "metadata": {
    "execution": {
     "iopub.execute_input": "2022-03-15T20:24:25.981680Z",
     "iopub.status.busy": "2022-03-15T20:24:25.981303Z",
     "iopub.status.idle": "2022-03-15T20:24:26.007343Z",
     "shell.execute_reply": "2022-03-15T20:24:26.006208Z",
     "shell.execute_reply.started": "2022-03-15T20:24:25.981634Z"
    }
   },
   "outputs": [
    {
     "data": {
      "text/plain": [
       "0.18853988723873993"
      ]
     },
     "execution_count": 74,
     "metadata": {},
     "output_type": "execute_result"
    }
   ],
   "source": [
    "regressor.score(X_test,y_test)"
   ]
  },
  {
   "cell_type": "code",
   "execution_count": 89,
   "metadata": {},
   "outputs": [],
   "source": [
    "y_pred_lr = regressor.predict(X_test)"
   ]
  },
  {
   "cell_type": "code",
   "execution_count": 92,
   "metadata": {},
   "outputs": [
    {
     "data": {
      "text/plain": [
       "228.97864367030166"
      ]
     },
     "execution_count": 92,
     "metadata": {},
     "output_type": "execute_result"
    }
   ],
   "source": [
    "mean_squared_error(y_test,y_pred_lr)"
   ]
  },
  {
   "cell_type": "markdown",
   "metadata": {},
   "source": [
    "# Using Random forest Regression"
   ]
  },
  {
   "cell_type": "code",
   "execution_count": 75,
   "metadata": {
    "execution": {
     "iopub.execute_input": "2022-03-15T20:24:28.980233Z",
     "iopub.status.busy": "2022-03-15T20:24:28.979884Z",
     "iopub.status.idle": "2022-03-15T20:25:45.847157Z",
     "shell.execute_reply": "2022-03-15T20:25:45.846174Z",
     "shell.execute_reply.started": "2022-03-15T20:24:28.980190Z"
    }
   },
   "outputs": [
    {
     "data": {
      "text/plain": [
       "RandomForestRegressor(n_estimators=10, random_state=0)"
      ]
     },
     "execution_count": 75,
     "metadata": {},
     "output_type": "execute_result"
    }
   ],
   "source": [
    "from sklearn.ensemble import RandomForestRegressor\n",
    "regressor_RFR = RandomForestRegressor(n_estimators = 10, random_state = 0)\n",
    "regressor_RFR.fit(X_train, y_train)"
   ]
  },
  {
   "cell_type": "code",
   "execution_count": 76,
   "metadata": {
    "execution": {
     "iopub.execute_input": "2022-03-15T20:25:45.849299Z",
     "iopub.status.busy": "2022-03-15T20:25:45.848983Z",
     "iopub.status.idle": "2022-03-15T20:25:48.160177Z",
     "shell.execute_reply": "2022-03-15T20:25:48.159178Z",
     "shell.execute_reply.started": "2022-03-15T20:25:45.849258Z"
    }
   },
   "outputs": [
    {
     "data": {
      "text/plain": [
       "0.7156511354340629"
      ]
     },
     "execution_count": 76,
     "metadata": {},
     "output_type": "execute_result"
    }
   ],
   "source": [
    "regressor_RFR.score(X_test,y_test)"
   ]
  },
  {
   "cell_type": "code",
   "execution_count": 85,
   "metadata": {},
   "outputs": [],
   "source": [
    "y_pred_rfr = regressor_RFR.predict(X_test)"
   ]
  },
  {
   "cell_type": "code",
   "execution_count": 93,
   "metadata": {},
   "outputs": [
    {
     "data": {
      "text/plain": [
       "80.23785311633003"
      ]
     },
     "execution_count": 93,
     "metadata": {},
     "output_type": "execute_result"
    }
   ],
   "source": [
    "mean_squared_error(y_test,y_pred_rfr)"
   ]
  },
  {
   "cell_type": "markdown",
   "metadata": {},
   "source": [
    "# using SVR"
   ]
  },
  {
   "cell_type": "code",
   "execution_count": 83,
   "metadata": {
    "execution": {
     "iopub.execute_input": "2022-03-15T19:49:45.116643Z",
     "iopub.status.busy": "2022-03-15T19:49:45.116288Z",
     "iopub.status.idle": "2022-03-15T19:50:27.063445Z",
     "shell.execute_reply": "2022-03-15T19:50:27.062447Z",
     "shell.execute_reply.started": "2022-03-15T19:49:45.116597Z"
    }
   },
   "outputs": [
    {
     "name": "stderr",
     "output_type": "stream",
     "text": [
      "C:\\Users\\HP\\anaconda3\\lib\\site-packages\\sklearn\\svm\\_base.py:255: ConvergenceWarning: Solver terminated early (max_iter=500).  Consider pre-processing your data with StandardScaler or MinMaxScaler.\n",
      "  warnings.warn('Solver terminated early (max_iter=%i).'\n"
     ]
    },
    {
     "data": {
      "text/plain": [
       "SVR(max_iter=500)"
      ]
     },
     "execution_count": 83,
     "metadata": {},
     "output_type": "execute_result"
    }
   ],
   "source": [
    "from sklearn.svm import SVR\n",
    "regressor_SVR = SVR(kernel = 'rbf',max_iter=500)\n",
    "regressor_SVR.fit(X_train, y_train)"
   ]
  },
  {
   "cell_type": "code",
   "execution_count": 84,
   "metadata": {
    "execution": {
     "iopub.execute_input": "2022-03-15T19:50:27.065624Z",
     "iopub.status.busy": "2022-03-15T19:50:27.065296Z",
     "iopub.status.idle": "2022-03-15T19:50:36.778725Z",
     "shell.execute_reply": "2022-03-15T19:50:36.777819Z",
     "shell.execute_reply.started": "2022-03-15T19:50:27.065568Z"
    }
   },
   "outputs": [
    {
     "data": {
      "text/plain": [
       "-0.00013532200324783972"
      ]
     },
     "execution_count": 84,
     "metadata": {},
     "output_type": "execute_result"
    }
   ],
   "source": [
    "regressor_SVR.score(X_test,y_test)"
   ]
  },
  {
   "cell_type": "code",
   "execution_count": 87,
   "metadata": {},
   "outputs": [],
   "source": [
    "y_pred_svr = regressor_SVR.predict(X_test)"
   ]
  },
  {
   "cell_type": "code",
   "execution_count": 94,
   "metadata": {},
   "outputs": [
    {
     "data": {
      "text/plain": [
       "282.2192069796056"
      ]
     },
     "execution_count": 94,
     "metadata": {},
     "output_type": "execute_result"
    }
   ],
   "source": [
    "mean_squared_error(y_test,y_pred_svr)"
   ]
  },
  {
   "cell_type": "code",
   "execution_count": null,
   "metadata": {},
   "outputs": [],
   "source": []
  }
 ],
 "metadata": {
  "kernelspec": {
   "display_name": "Python 3",
   "language": "python",
   "name": "python3"
  },
  "language_info": {
   "codemirror_mode": {
    "name": "ipython",
    "version": 3
   },
   "file_extension": ".py",
   "mimetype": "text/x-python",
   "name": "python",
   "nbconvert_exporter": "python",
   "pygments_lexer": "ipython3",
   "version": "3.8.8"
  }
 },
 "nbformat": 4,
 "nbformat_minor": 4
}
